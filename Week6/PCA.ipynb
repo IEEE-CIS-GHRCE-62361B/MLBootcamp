{
 "cells": [
  {
   "cell_type": "code",
   "execution_count": 2,
   "metadata": {},
   "outputs": [],
   "source": [
    "import numpy as np\n",
    "import pandas as pd\n",
    "import plotly.express as px\n",
    "from utils import set_default\n",
    "\n",
    "# PCA\n",
    "from sklearn.model_selection import train_test_split\n",
    "from sklearn.neighbors import KNeighborsClassifier\n",
    "from sklearn.decomposition import PCA\n",
    "from sklearn.metrics import accuracy_score"
   ]
  },
  {
   "cell_type": "code",
   "execution_count": 3,
   "metadata": {},
   "outputs": [],
   "source": [
    "set_default()"
   ]
  },
  {
   "cell_type": "code",
   "execution_count": 4,
   "metadata": {},
   "outputs": [
    {
     "data": {
      "text/html": [
       "<div>\n",
       "<style scoped>\n",
       "    .dataframe tbody tr th:only-of-type {\n",
       "        vertical-align: middle;\n",
       "    }\n",
       "\n",
       "    .dataframe tbody tr th {\n",
       "        vertical-align: top;\n",
       "    }\n",
       "\n",
       "    .dataframe thead th {\n",
       "        text-align: right;\n",
       "    }\n",
       "</style>\n",
       "<table border=\"1\" class=\"dataframe\">\n",
       "  <thead>\n",
       "    <tr style=\"text-align: right;\">\n",
       "      <th></th>\n",
       "      <th>6</th>\n",
       "      <th>0</th>\n",
       "      <th>0.1</th>\n",
       "      <th>0.2</th>\n",
       "      <th>0.3</th>\n",
       "      <th>0.4</th>\n",
       "      <th>0.5</th>\n",
       "      <th>0.6</th>\n",
       "      <th>0.7</th>\n",
       "      <th>0.8</th>\n",
       "      <th>...</th>\n",
       "      <th>0.581</th>\n",
       "      <th>0.582</th>\n",
       "      <th>0.583</th>\n",
       "      <th>0.584</th>\n",
       "      <th>0.585</th>\n",
       "      <th>0.586</th>\n",
       "      <th>0.587</th>\n",
       "      <th>0.588</th>\n",
       "      <th>0.589</th>\n",
       "      <th>0.590</th>\n",
       "    </tr>\n",
       "  </thead>\n",
       "  <tbody>\n",
       "    <tr>\n",
       "      <th>0</th>\n",
       "      <td>5</td>\n",
       "      <td>0</td>\n",
       "      <td>0</td>\n",
       "      <td>0</td>\n",
       "      <td>0</td>\n",
       "      <td>0</td>\n",
       "      <td>0</td>\n",
       "      <td>0</td>\n",
       "      <td>0</td>\n",
       "      <td>0</td>\n",
       "      <td>...</td>\n",
       "      <td>0</td>\n",
       "      <td>0</td>\n",
       "      <td>0</td>\n",
       "      <td>0</td>\n",
       "      <td>0</td>\n",
       "      <td>0</td>\n",
       "      <td>0</td>\n",
       "      <td>0</td>\n",
       "      <td>0</td>\n",
       "      <td>0</td>\n",
       "    </tr>\n",
       "    <tr>\n",
       "      <th>1</th>\n",
       "      <td>7</td>\n",
       "      <td>0</td>\n",
       "      <td>0</td>\n",
       "      <td>0</td>\n",
       "      <td>0</td>\n",
       "      <td>0</td>\n",
       "      <td>0</td>\n",
       "      <td>0</td>\n",
       "      <td>0</td>\n",
       "      <td>0</td>\n",
       "      <td>...</td>\n",
       "      <td>0</td>\n",
       "      <td>0</td>\n",
       "      <td>0</td>\n",
       "      <td>0</td>\n",
       "      <td>0</td>\n",
       "      <td>0</td>\n",
       "      <td>0</td>\n",
       "      <td>0</td>\n",
       "      <td>0</td>\n",
       "      <td>0</td>\n",
       "    </tr>\n",
       "    <tr>\n",
       "      <th>2</th>\n",
       "      <td>9</td>\n",
       "      <td>0</td>\n",
       "      <td>0</td>\n",
       "      <td>0</td>\n",
       "      <td>0</td>\n",
       "      <td>0</td>\n",
       "      <td>0</td>\n",
       "      <td>0</td>\n",
       "      <td>0</td>\n",
       "      <td>0</td>\n",
       "      <td>...</td>\n",
       "      <td>0</td>\n",
       "      <td>0</td>\n",
       "      <td>0</td>\n",
       "      <td>0</td>\n",
       "      <td>0</td>\n",
       "      <td>0</td>\n",
       "      <td>0</td>\n",
       "      <td>0</td>\n",
       "      <td>0</td>\n",
       "      <td>0</td>\n",
       "    </tr>\n",
       "    <tr>\n",
       "      <th>3</th>\n",
       "      <td>5</td>\n",
       "      <td>0</td>\n",
       "      <td>0</td>\n",
       "      <td>0</td>\n",
       "      <td>0</td>\n",
       "      <td>0</td>\n",
       "      <td>0</td>\n",
       "      <td>0</td>\n",
       "      <td>0</td>\n",
       "      <td>0</td>\n",
       "      <td>...</td>\n",
       "      <td>0</td>\n",
       "      <td>0</td>\n",
       "      <td>0</td>\n",
       "      <td>0</td>\n",
       "      <td>0</td>\n",
       "      <td>0</td>\n",
       "      <td>0</td>\n",
       "      <td>0</td>\n",
       "      <td>0</td>\n",
       "      <td>0</td>\n",
       "    </tr>\n",
       "    <tr>\n",
       "      <th>4</th>\n",
       "      <td>2</td>\n",
       "      <td>0</td>\n",
       "      <td>0</td>\n",
       "      <td>0</td>\n",
       "      <td>0</td>\n",
       "      <td>0</td>\n",
       "      <td>0</td>\n",
       "      <td>0</td>\n",
       "      <td>0</td>\n",
       "      <td>0</td>\n",
       "      <td>...</td>\n",
       "      <td>0</td>\n",
       "      <td>0</td>\n",
       "      <td>0</td>\n",
       "      <td>0</td>\n",
       "      <td>0</td>\n",
       "      <td>0</td>\n",
       "      <td>0</td>\n",
       "      <td>0</td>\n",
       "      <td>0</td>\n",
       "      <td>0</td>\n",
       "    </tr>\n",
       "  </tbody>\n",
       "</table>\n",
       "<p>5 rows × 785 columns</p>\n",
       "</div>"
      ],
      "text/plain": [
       "   6  0  0.1  0.2  0.3  0.4  0.5  0.6  0.7  0.8  ...  0.581  0.582  0.583  \\\n",
       "0  5  0    0    0    0    0    0    0    0    0  ...      0      0      0   \n",
       "1  7  0    0    0    0    0    0    0    0    0  ...      0      0      0   \n",
       "2  9  0    0    0    0    0    0    0    0    0  ...      0      0      0   \n",
       "3  5  0    0    0    0    0    0    0    0    0  ...      0      0      0   \n",
       "4  2  0    0    0    0    0    0    0    0    0  ...      0      0      0   \n",
       "\n",
       "   0.584  0.585  0.586  0.587  0.588  0.589  0.590  \n",
       "0      0      0      0      0      0      0      0  \n",
       "1      0      0      0      0      0      0      0  \n",
       "2      0      0      0      0      0      0      0  \n",
       "3      0      0      0      0      0      0      0  \n",
       "4      0      0      0      0      0      0      0  \n",
       "\n",
       "[5 rows x 785 columns]"
      ]
     },
     "execution_count": 4,
     "metadata": {},
     "output_type": "execute_result"
    }
   ],
   "source": [
    "data = pd.read_csv('..\\Week3\\mnist_digit.csv')\n",
    "\n",
    "data.head()"
   ]
  },
  {
   "cell_type": "code",
   "execution_count": 5,
   "metadata": {},
   "outputs": [],
   "source": [
    "X = np.array(data.iloc[:, 1:])\n",
    "y = np.array(data.iloc[:, 0])"
   ]
  },
  {
   "cell_type": "code",
   "execution_count": 6,
   "metadata": {},
   "outputs": [
    {
     "name": "stdout",
     "output_type": "stream",
     "text": [
      "(19999, 784) (19999,)\n"
     ]
    }
   ],
   "source": [
    "print(X.shape, y.shape)"
   ]
  },
  {
   "cell_type": "code",
   "execution_count": 12,
   "metadata": {},
   "outputs": [
    {
     "data": {
      "application/vnd.plotly.v1+json": {
       "config": {
        "plotlyServerURL": "https://plot.ly"
       },
       "data": [
        {
         "coloraxis": "coloraxis",
         "hovertemplate": "x: %{x}<br>y: %{y}<br>color: %{z}<extra></extra>",
         "name": "0",
         "type": "heatmap",
         "xaxis": "x",
         "yaxis": "y",
         "z": [
          [
           0,
           0,
           0,
           0,
           0,
           0,
           0,
           0,
           0,
           0,
           0,
           0,
           0,
           0,
           0,
           0,
           0,
           0,
           0,
           0,
           0,
           0,
           0,
           0,
           0,
           0,
           0,
           0
          ],
          [
           0,
           0,
           0,
           0,
           0,
           0,
           0,
           0,
           0,
           0,
           0,
           0,
           0,
           0,
           0,
           0,
           0,
           0,
           0,
           0,
           0,
           0,
           0,
           0,
           0,
           0,
           0,
           0
          ],
          [
           0,
           0,
           0,
           0,
           0,
           0,
           0,
           0,
           0,
           0,
           0,
           0,
           0,
           0,
           0,
           0,
           0,
           0,
           0,
           0,
           0,
           0,
           0,
           0,
           0,
           0,
           0,
           0
          ],
          [
           0,
           0,
           0,
           0,
           0,
           0,
           0,
           0,
           0,
           0,
           0,
           0,
           0,
           0,
           0,
           0,
           0,
           0,
           0,
           0,
           0,
           0,
           0,
           0,
           0,
           0,
           0,
           0
          ],
          [
           0,
           0,
           0,
           0,
           0,
           0,
           0,
           0,
           0,
           0,
           0,
           0,
           0,
           0,
           0,
           0,
           0,
           0,
           0,
           0,
           0,
           0,
           0,
           0,
           0,
           0,
           0,
           0
          ],
          [
           0,
           0,
           0,
           0,
           0,
           0,
           0,
           0,
           0,
           0,
           0,
           0,
           0,
           0,
           0,
           0,
           0,
           0,
           0,
           0,
           0,
           0,
           0,
           0,
           0,
           0,
           0,
           0
          ],
          [
           0,
           0,
           0,
           0,
           0,
           0,
           0,
           0,
           0,
           0,
           0,
           0,
           0,
           0,
           0,
           0,
           0,
           0,
           0,
           0,
           0,
           0,
           0,
           0,
           0,
           0,
           0,
           0
          ],
          [
           0,
           0,
           0,
           0,
           0,
           0,
           0,
           0,
           0,
           25,
           114,
           181,
           219,
           255,
           196,
           126,
           122,
           22,
           0,
           0,
           0,
           0,
           0,
           0,
           0,
           0,
           0,
           0
          ],
          [
           0,
           0,
           0,
           0,
           0,
           0,
           0,
           0,
           74,
           212,
           218,
           254,
           254,
           225,
           217,
           216,
           245,
           133,
           0,
           0,
           0,
           0,
           0,
           0,
           0,
           0,
           0,
           0
          ],
          [
           0,
           0,
           0,
           0,
           0,
           0,
           46,
           104,
           187,
           253,
           213,
           129,
           56,
           15,
           0,
           0,
           86,
           237,
           88,
           0,
           0,
           0,
           0,
           0,
           0,
           0,
           0,
           0
          ],
          [
           0,
           0,
           0,
           0,
           0,
           82,
           235,
           254,
           254,
           143,
           0,
           0,
           0,
           0,
           0,
           0,
           10,
           254,
           113,
           0,
           0,
           0,
           0,
           0,
           0,
           0,
           0,
           0
          ],
          [
           0,
           0,
           0,
           0,
           0,
           226,
           254,
           254,
           70,
           4,
           0,
           0,
           0,
           0,
           0,
           0,
           1,
           50,
           100,
           22,
           79,
           111,
           0,
           0,
           0,
           0,
           0,
           0
          ],
          [
           0,
           0,
           0,
           0,
           0,
           226,
           254,
           254,
           71,
           4,
           45,
           93,
           90,
           90,
           19,
           5,
           23,
           207,
           228,
           228,
           254,
           243,
           73,
           0,
           0,
           0,
           0,
           0
          ],
          [
           0,
           0,
           0,
           0,
           0,
           195,
           254,
           254,
           254,
           193,
           232,
           254,
           254,
           254,
           254,
           198,
           254,
           254,
           254,
           254,
           254,
           254,
           131,
           0,
           0,
           0,
           0,
           0
          ],
          [
           0,
           0,
           0,
           0,
           0,
           19,
           176,
           235,
           254,
           254,
           254,
           254,
           254,
           254,
           254,
           254,
           254,
           254,
           254,
           254,
           254,
           254,
           111,
           0,
           0,
           0,
           0,
           0
          ],
          [
           0,
           0,
           0,
           0,
           0,
           0,
           0,
           25,
           125,
           131,
           162,
           225,
           215,
           131,
           201,
           131,
           169,
           209,
           254,
           254,
           254,
           216,
           20,
           0,
           0,
           0,
           0,
           0
          ],
          [
           0,
           0,
           0,
           0,
           0,
           0,
           0,
           0,
           0,
           0,
           0,
           0,
           0,
           0,
           0,
           0,
           0,
           169,
           254,
           254,
           222,
           30,
           0,
           0,
           0,
           0,
           0,
           0
          ],
          [
           0,
           0,
           0,
           0,
           0,
           0,
           0,
           0,
           0,
           0,
           0,
           0,
           0,
           0,
           0,
           0,
           6,
           223,
           254,
           254,
           145,
           0,
           0,
           0,
           0,
           0,
           0,
           0
          ],
          [
           0,
           0,
           0,
           0,
           0,
           0,
           0,
           0,
           0,
           0,
           0,
           0,
           0,
           0,
           0,
           0,
           73,
           254,
           254,
           152,
           9,
           0,
           0,
           0,
           0,
           0,
           0,
           0
          ],
          [
           0,
           0,
           0,
           0,
           0,
           0,
           0,
           0,
           0,
           0,
           0,
           0,
           0,
           0,
           0,
           2,
           200,
           254,
           252,
           66,
           0,
           0,
           0,
           0,
           0,
           0,
           0,
           0
          ],
          [
           0,
           0,
           0,
           0,
           0,
           0,
           0,
           0,
           0,
           0,
           0,
           0,
           0,
           0,
           0,
           101,
           254,
           254,
           143,
           0,
           0,
           0,
           0,
           0,
           0,
           0,
           0,
           0
          ],
          [
           0,
           0,
           0,
           0,
           0,
           0,
           0,
           0,
           0,
           0,
           0,
           0,
           0,
           0,
           0,
           80,
           254,
           254,
           95,
           0,
           0,
           0,
           0,
           0,
           0,
           0,
           0,
           0
          ],
          [
           0,
           0,
           0,
           0,
           0,
           0,
           0,
           0,
           0,
           0,
           0,
           0,
           0,
           0,
           0,
           157,
           254,
           213,
           10,
           0,
           0,
           0,
           0,
           0,
           0,
           0,
           0,
           0
          ],
          [
           0,
           0,
           0,
           0,
           0,
           0,
           0,
           0,
           0,
           0,
           0,
           0,
           0,
           0,
           23,
           235,
           254,
           85,
           0,
           0,
           0,
           0,
           0,
           0,
           0,
           0,
           0,
           0
          ],
          [
           0,
           0,
           0,
           0,
           0,
           0,
           0,
           0,
           0,
           0,
           0,
           0,
           0,
           0,
           88,
           254,
           251,
           66,
           0,
           0,
           0,
           0,
           0,
           0,
           0,
           0,
           0,
           0
          ],
          [
           0,
           0,
           0,
           0,
           0,
           0,
           0,
           0,
           0,
           0,
           0,
           0,
           0,
           0,
           160,
           254,
           153,
           0,
           0,
           0,
           0,
           0,
           0,
           0,
           0,
           0,
           0,
           0
          ],
          [
           0,
           0,
           0,
           0,
           0,
           0,
           0,
           0,
           0,
           0,
           0,
           0,
           0,
           0,
           91,
           225,
           15,
           0,
           0,
           0,
           0,
           0,
           0,
           0,
           0,
           0,
           0,
           0
          ],
          [
           0,
           0,
           0,
           0,
           0,
           0,
           0,
           0,
           0,
           0,
           0,
           0,
           0,
           0,
           0,
           0,
           0,
           0,
           0,
           0,
           0,
           0,
           0,
           0,
           0,
           0,
           0,
           0
          ]
         ]
        }
       ],
       "layout": {
        "coloraxis": {
         "colorscale": [
          [
           0,
           "rgb(0, 0, 0)"
          ],
          [
           0.09090909090909091,
           "rgb(16, 16, 16)"
          ],
          [
           0.18181818181818182,
           "rgb(38, 38, 38)"
          ],
          [
           0.2727272727272727,
           "rgb(59, 59, 59)"
          ],
          [
           0.36363636363636365,
           "rgb(81, 80, 80)"
          ],
          [
           0.45454545454545453,
           "rgb(102, 101, 101)"
          ],
          [
           0.5454545454545454,
           "rgb(124, 123, 122)"
          ],
          [
           0.6363636363636364,
           "rgb(146, 146, 145)"
          ],
          [
           0.7272727272727273,
           "rgb(171, 171, 170)"
          ],
          [
           0.8181818181818182,
           "rgb(197, 197, 195)"
          ],
          [
           0.9090909090909091,
           "rgb(224, 224, 223)"
          ],
          [
           1,
           "rgb(254, 254, 253)"
          ]
         ]
        },
        "margin": {
         "t": 60
        },
        "template": {
         "data": {
          "bar": [
           {
            "error_x": {
             "color": "#f2f5fa"
            },
            "error_y": {
             "color": "#f2f5fa"
            },
            "marker": {
             "line": {
              "color": "rgb(17,17,17)",
              "width": 0.5
             }
            },
            "type": "bar"
           }
          ],
          "barpolar": [
           {
            "marker": {
             "line": {
              "color": "rgb(17,17,17)",
              "width": 0.5
             }
            },
            "type": "barpolar"
           }
          ],
          "carpet": [
           {
            "aaxis": {
             "endlinecolor": "#A2B1C6",
             "gridcolor": "#506784",
             "linecolor": "#506784",
             "minorgridcolor": "#506784",
             "startlinecolor": "#A2B1C6"
            },
            "baxis": {
             "endlinecolor": "#A2B1C6",
             "gridcolor": "#506784",
             "linecolor": "#506784",
             "minorgridcolor": "#506784",
             "startlinecolor": "#A2B1C6"
            },
            "type": "carpet"
           }
          ],
          "choropleth": [
           {
            "colorbar": {
             "outlinewidth": 0,
             "ticks": ""
            },
            "type": "choropleth"
           }
          ],
          "contour": [
           {
            "colorbar": {
             "outlinewidth": 0,
             "ticks": ""
            },
            "colorscale": [
             [
              0,
              "#0d0887"
             ],
             [
              0.1111111111111111,
              "#46039f"
             ],
             [
              0.2222222222222222,
              "#7201a8"
             ],
             [
              0.3333333333333333,
              "#9c179e"
             ],
             [
              0.4444444444444444,
              "#bd3786"
             ],
             [
              0.5555555555555556,
              "#d8576b"
             ],
             [
              0.6666666666666666,
              "#ed7953"
             ],
             [
              0.7777777777777778,
              "#fb9f3a"
             ],
             [
              0.8888888888888888,
              "#fdca26"
             ],
             [
              1,
              "#f0f921"
             ]
            ],
            "type": "contour"
           }
          ],
          "contourcarpet": [
           {
            "colorbar": {
             "outlinewidth": 0,
             "ticks": ""
            },
            "type": "contourcarpet"
           }
          ],
          "heatmap": [
           {
            "colorbar": {
             "outlinewidth": 0,
             "ticks": ""
            },
            "colorscale": [
             [
              0,
              "#0d0887"
             ],
             [
              0.1111111111111111,
              "#46039f"
             ],
             [
              0.2222222222222222,
              "#7201a8"
             ],
             [
              0.3333333333333333,
              "#9c179e"
             ],
             [
              0.4444444444444444,
              "#bd3786"
             ],
             [
              0.5555555555555556,
              "#d8576b"
             ],
             [
              0.6666666666666666,
              "#ed7953"
             ],
             [
              0.7777777777777778,
              "#fb9f3a"
             ],
             [
              0.8888888888888888,
              "#fdca26"
             ],
             [
              1,
              "#f0f921"
             ]
            ],
            "type": "heatmap"
           }
          ],
          "heatmapgl": [
           {
            "colorbar": {
             "outlinewidth": 0,
             "ticks": ""
            },
            "colorscale": [
             [
              0,
              "#0d0887"
             ],
             [
              0.1111111111111111,
              "#46039f"
             ],
             [
              0.2222222222222222,
              "#7201a8"
             ],
             [
              0.3333333333333333,
              "#9c179e"
             ],
             [
              0.4444444444444444,
              "#bd3786"
             ],
             [
              0.5555555555555556,
              "#d8576b"
             ],
             [
              0.6666666666666666,
              "#ed7953"
             ],
             [
              0.7777777777777778,
              "#fb9f3a"
             ],
             [
              0.8888888888888888,
              "#fdca26"
             ],
             [
              1,
              "#f0f921"
             ]
            ],
            "type": "heatmapgl"
           }
          ],
          "histogram": [
           {
            "marker": {
             "colorbar": {
              "outlinewidth": 0,
              "ticks": ""
             }
            },
            "type": "histogram"
           }
          ],
          "histogram2d": [
           {
            "colorbar": {
             "outlinewidth": 0,
             "ticks": ""
            },
            "colorscale": [
             [
              0,
              "#0d0887"
             ],
             [
              0.1111111111111111,
              "#46039f"
             ],
             [
              0.2222222222222222,
              "#7201a8"
             ],
             [
              0.3333333333333333,
              "#9c179e"
             ],
             [
              0.4444444444444444,
              "#bd3786"
             ],
             [
              0.5555555555555556,
              "#d8576b"
             ],
             [
              0.6666666666666666,
              "#ed7953"
             ],
             [
              0.7777777777777778,
              "#fb9f3a"
             ],
             [
              0.8888888888888888,
              "#fdca26"
             ],
             [
              1,
              "#f0f921"
             ]
            ],
            "type": "histogram2d"
           }
          ],
          "histogram2dcontour": [
           {
            "colorbar": {
             "outlinewidth": 0,
             "ticks": ""
            },
            "colorscale": [
             [
              0,
              "#0d0887"
             ],
             [
              0.1111111111111111,
              "#46039f"
             ],
             [
              0.2222222222222222,
              "#7201a8"
             ],
             [
              0.3333333333333333,
              "#9c179e"
             ],
             [
              0.4444444444444444,
              "#bd3786"
             ],
             [
              0.5555555555555556,
              "#d8576b"
             ],
             [
              0.6666666666666666,
              "#ed7953"
             ],
             [
              0.7777777777777778,
              "#fb9f3a"
             ],
             [
              0.8888888888888888,
              "#fdca26"
             ],
             [
              1,
              "#f0f921"
             ]
            ],
            "type": "histogram2dcontour"
           }
          ],
          "mesh3d": [
           {
            "colorbar": {
             "outlinewidth": 0,
             "ticks": ""
            },
            "type": "mesh3d"
           }
          ],
          "parcoords": [
           {
            "line": {
             "colorbar": {
              "outlinewidth": 0,
              "ticks": ""
             }
            },
            "type": "parcoords"
           }
          ],
          "pie": [
           {
            "automargin": true,
            "type": "pie"
           }
          ],
          "scatter": [
           {
            "marker": {
             "line": {
              "color": "#283442"
             }
            },
            "type": "scatter"
           }
          ],
          "scatter3d": [
           {
            "line": {
             "colorbar": {
              "outlinewidth": 0,
              "ticks": ""
             }
            },
            "marker": {
             "colorbar": {
              "outlinewidth": 0,
              "ticks": ""
             }
            },
            "type": "scatter3d"
           }
          ],
          "scattercarpet": [
           {
            "marker": {
             "colorbar": {
              "outlinewidth": 0,
              "ticks": ""
             }
            },
            "type": "scattercarpet"
           }
          ],
          "scattergeo": [
           {
            "marker": {
             "colorbar": {
              "outlinewidth": 0,
              "ticks": ""
             }
            },
            "type": "scattergeo"
           }
          ],
          "scattergl": [
           {
            "marker": {
             "line": {
              "color": "#283442"
             }
            },
            "type": "scattergl"
           }
          ],
          "scattermapbox": [
           {
            "marker": {
             "colorbar": {
              "outlinewidth": 0,
              "ticks": ""
             }
            },
            "type": "scattermapbox"
           }
          ],
          "scatterpolar": [
           {
            "marker": {
             "colorbar": {
              "outlinewidth": 0,
              "ticks": ""
             }
            },
            "type": "scatterpolar"
           }
          ],
          "scatterpolargl": [
           {
            "marker": {
             "colorbar": {
              "outlinewidth": 0,
              "ticks": ""
             }
            },
            "type": "scatterpolargl"
           }
          ],
          "scatterternary": [
           {
            "marker": {
             "colorbar": {
              "outlinewidth": 0,
              "ticks": ""
             }
            },
            "type": "scatterternary"
           }
          ],
          "surface": [
           {
            "colorbar": {
             "outlinewidth": 0,
             "ticks": ""
            },
            "colorscale": [
             [
              0,
              "#0d0887"
             ],
             [
              0.1111111111111111,
              "#46039f"
             ],
             [
              0.2222222222222222,
              "#7201a8"
             ],
             [
              0.3333333333333333,
              "#9c179e"
             ],
             [
              0.4444444444444444,
              "#bd3786"
             ],
             [
              0.5555555555555556,
              "#d8576b"
             ],
             [
              0.6666666666666666,
              "#ed7953"
             ],
             [
              0.7777777777777778,
              "#fb9f3a"
             ],
             [
              0.8888888888888888,
              "#fdca26"
             ],
             [
              1,
              "#f0f921"
             ]
            ],
            "type": "surface"
           }
          ],
          "table": [
           {
            "cells": {
             "fill": {
              "color": "#506784"
             },
             "line": {
              "color": "rgb(17,17,17)"
             }
            },
            "header": {
             "fill": {
              "color": "#2a3f5f"
             },
             "line": {
              "color": "rgb(17,17,17)"
             }
            },
            "type": "table"
           }
          ]
         },
         "layout": {
          "annotationdefaults": {
           "arrowcolor": "#f2f5fa",
           "arrowhead": 0,
           "arrowwidth": 1
          },
          "autotypenumbers": "strict",
          "coloraxis": {
           "colorbar": {
            "outlinewidth": 0,
            "ticks": ""
           }
          },
          "colorscale": {
           "diverging": [
            [
             0,
             "#8e0152"
            ],
            [
             0.1,
             "#c51b7d"
            ],
            [
             0.2,
             "#de77ae"
            ],
            [
             0.3,
             "#f1b6da"
            ],
            [
             0.4,
             "#fde0ef"
            ],
            [
             0.5,
             "#f7f7f7"
            ],
            [
             0.6,
             "#e6f5d0"
            ],
            [
             0.7,
             "#b8e186"
            ],
            [
             0.8,
             "#7fbc41"
            ],
            [
             0.9,
             "#4d9221"
            ],
            [
             1,
             "#276419"
            ]
           ],
           "sequential": [
            [
             0,
             "#0d0887"
            ],
            [
             0.1111111111111111,
             "#46039f"
            ],
            [
             0.2222222222222222,
             "#7201a8"
            ],
            [
             0.3333333333333333,
             "#9c179e"
            ],
            [
             0.4444444444444444,
             "#bd3786"
            ],
            [
             0.5555555555555556,
             "#d8576b"
            ],
            [
             0.6666666666666666,
             "#ed7953"
            ],
            [
             0.7777777777777778,
             "#fb9f3a"
            ],
            [
             0.8888888888888888,
             "#fdca26"
            ],
            [
             1,
             "#f0f921"
            ]
           ],
           "sequentialminus": [
            [
             0,
             "#0d0887"
            ],
            [
             0.1111111111111111,
             "#46039f"
            ],
            [
             0.2222222222222222,
             "#7201a8"
            ],
            [
             0.3333333333333333,
             "#9c179e"
            ],
            [
             0.4444444444444444,
             "#bd3786"
            ],
            [
             0.5555555555555556,
             "#d8576b"
            ],
            [
             0.6666666666666666,
             "#ed7953"
            ],
            [
             0.7777777777777778,
             "#fb9f3a"
            ],
            [
             0.8888888888888888,
             "#fdca26"
            ],
            [
             1,
             "#f0f921"
            ]
           ]
          },
          "colorway": [
           "#636efa",
           "#EF553B",
           "#00cc96",
           "#ab63fa",
           "#FFA15A",
           "#19d3f3",
           "#FF6692",
           "#B6E880",
           "#FF97FF",
           "#FECB52"
          ],
          "font": {
           "color": "#f2f5fa"
          },
          "geo": {
           "bgcolor": "rgb(17,17,17)",
           "lakecolor": "rgb(17,17,17)",
           "landcolor": "rgb(17,17,17)",
           "showlakes": true,
           "showland": true,
           "subunitcolor": "#506784"
          },
          "hoverlabel": {
           "align": "left"
          },
          "hovermode": "closest",
          "mapbox": {
           "style": "dark"
          },
          "paper_bgcolor": "rgb(17,17,17)",
          "plot_bgcolor": "rgb(17,17,17)",
          "polar": {
           "angularaxis": {
            "gridcolor": "#506784",
            "linecolor": "#506784",
            "ticks": ""
           },
           "bgcolor": "rgb(17,17,17)",
           "radialaxis": {
            "gridcolor": "#506784",
            "linecolor": "#506784",
            "ticks": ""
           }
          },
          "scene": {
           "xaxis": {
            "backgroundcolor": "rgb(17,17,17)",
            "gridcolor": "#506784",
            "gridwidth": 2,
            "linecolor": "#506784",
            "showbackground": true,
            "ticks": "",
            "zerolinecolor": "#C8D4E3"
           },
           "yaxis": {
            "backgroundcolor": "rgb(17,17,17)",
            "gridcolor": "#506784",
            "gridwidth": 2,
            "linecolor": "#506784",
            "showbackground": true,
            "ticks": "",
            "zerolinecolor": "#C8D4E3"
           },
           "zaxis": {
            "backgroundcolor": "rgb(17,17,17)",
            "gridcolor": "#506784",
            "gridwidth": 2,
            "linecolor": "#506784",
            "showbackground": true,
            "ticks": "",
            "zerolinecolor": "#C8D4E3"
           }
          },
          "shapedefaults": {
           "line": {
            "color": "#f2f5fa"
           }
          },
          "sliderdefaults": {
           "bgcolor": "#C8D4E3",
           "bordercolor": "rgb(17,17,17)",
           "borderwidth": 1,
           "tickwidth": 0
          },
          "ternary": {
           "aaxis": {
            "gridcolor": "#506784",
            "linecolor": "#506784",
            "ticks": ""
           },
           "baxis": {
            "gridcolor": "#506784",
            "linecolor": "#506784",
            "ticks": ""
           },
           "bgcolor": "rgb(17,17,17)",
           "caxis": {
            "gridcolor": "#506784",
            "linecolor": "#506784",
            "ticks": ""
           }
          },
          "title": {
           "x": 0.05
          },
          "updatemenudefaults": {
           "bgcolor": "#506784",
           "borderwidth": 0
          },
          "xaxis": {
           "automargin": true,
           "gridcolor": "#283442",
           "linecolor": "#506784",
           "ticks": "",
           "title": {
            "standoff": 15
           },
           "zerolinecolor": "#283442",
           "zerolinewidth": 2
          },
          "yaxis": {
           "automargin": true,
           "gridcolor": "#283442",
           "linecolor": "#506784",
           "ticks": "",
           "title": {
            "standoff": 15
           },
           "zerolinecolor": "#283442",
           "zerolinewidth": 2
          }
         }
        },
        "title": {
         "text": "The label is 9"
        },
        "xaxis": {
         "anchor": "y",
         "constrain": "domain",
         "domain": [
          0,
          1
         ],
         "scaleanchor": "y"
        },
        "yaxis": {
         "anchor": "x",
         "autorange": "reversed",
         "constrain": "domain",
         "domain": [
          0,
          1
         ]
        }
       }
      },
      "text/html": [
       "<div>                            <div id=\"1df10553-232d-4c00-8e4c-d8254f59c30d\" class=\"plotly-graph-div\" style=\"height:525px; width:100%;\"></div>            <script type=\"text/javascript\">                require([\"plotly\"], function(Plotly) {                    window.PLOTLYENV=window.PLOTLYENV || {};                                    if (document.getElementById(\"1df10553-232d-4c00-8e4c-d8254f59c30d\")) {                    Plotly.newPlot(                        \"1df10553-232d-4c00-8e4c-d8254f59c30d\",                        [{\"coloraxis\": \"coloraxis\", \"hovertemplate\": \"x: %{x}<br>y: %{y}<br>color: %{z}<extra></extra>\", \"name\": \"0\", \"type\": \"heatmap\", \"xaxis\": \"x\", \"yaxis\": \"y\", \"z\": [[0, 0, 0, 0, 0, 0, 0, 0, 0, 0, 0, 0, 0, 0, 0, 0, 0, 0, 0, 0, 0, 0, 0, 0, 0, 0, 0, 0], [0, 0, 0, 0, 0, 0, 0, 0, 0, 0, 0, 0, 0, 0, 0, 0, 0, 0, 0, 0, 0, 0, 0, 0, 0, 0, 0, 0], [0, 0, 0, 0, 0, 0, 0, 0, 0, 0, 0, 0, 0, 0, 0, 0, 0, 0, 0, 0, 0, 0, 0, 0, 0, 0, 0, 0], [0, 0, 0, 0, 0, 0, 0, 0, 0, 0, 0, 0, 0, 0, 0, 0, 0, 0, 0, 0, 0, 0, 0, 0, 0, 0, 0, 0], [0, 0, 0, 0, 0, 0, 0, 0, 0, 0, 0, 0, 0, 0, 0, 0, 0, 0, 0, 0, 0, 0, 0, 0, 0, 0, 0, 0], [0, 0, 0, 0, 0, 0, 0, 0, 0, 0, 0, 0, 0, 0, 0, 0, 0, 0, 0, 0, 0, 0, 0, 0, 0, 0, 0, 0], [0, 0, 0, 0, 0, 0, 0, 0, 0, 0, 0, 0, 0, 0, 0, 0, 0, 0, 0, 0, 0, 0, 0, 0, 0, 0, 0, 0], [0, 0, 0, 0, 0, 0, 0, 0, 0, 25, 114, 181, 219, 255, 196, 126, 122, 22, 0, 0, 0, 0, 0, 0, 0, 0, 0, 0], [0, 0, 0, 0, 0, 0, 0, 0, 74, 212, 218, 254, 254, 225, 217, 216, 245, 133, 0, 0, 0, 0, 0, 0, 0, 0, 0, 0], [0, 0, 0, 0, 0, 0, 46, 104, 187, 253, 213, 129, 56, 15, 0, 0, 86, 237, 88, 0, 0, 0, 0, 0, 0, 0, 0, 0], [0, 0, 0, 0, 0, 82, 235, 254, 254, 143, 0, 0, 0, 0, 0, 0, 10, 254, 113, 0, 0, 0, 0, 0, 0, 0, 0, 0], [0, 0, 0, 0, 0, 226, 254, 254, 70, 4, 0, 0, 0, 0, 0, 0, 1, 50, 100, 22, 79, 111, 0, 0, 0, 0, 0, 0], [0, 0, 0, 0, 0, 226, 254, 254, 71, 4, 45, 93, 90, 90, 19, 5, 23, 207, 228, 228, 254, 243, 73, 0, 0, 0, 0, 0], [0, 0, 0, 0, 0, 195, 254, 254, 254, 193, 232, 254, 254, 254, 254, 198, 254, 254, 254, 254, 254, 254, 131, 0, 0, 0, 0, 0], [0, 0, 0, 0, 0, 19, 176, 235, 254, 254, 254, 254, 254, 254, 254, 254, 254, 254, 254, 254, 254, 254, 111, 0, 0, 0, 0, 0], [0, 0, 0, 0, 0, 0, 0, 25, 125, 131, 162, 225, 215, 131, 201, 131, 169, 209, 254, 254, 254, 216, 20, 0, 0, 0, 0, 0], [0, 0, 0, 0, 0, 0, 0, 0, 0, 0, 0, 0, 0, 0, 0, 0, 0, 169, 254, 254, 222, 30, 0, 0, 0, 0, 0, 0], [0, 0, 0, 0, 0, 0, 0, 0, 0, 0, 0, 0, 0, 0, 0, 0, 6, 223, 254, 254, 145, 0, 0, 0, 0, 0, 0, 0], [0, 0, 0, 0, 0, 0, 0, 0, 0, 0, 0, 0, 0, 0, 0, 0, 73, 254, 254, 152, 9, 0, 0, 0, 0, 0, 0, 0], [0, 0, 0, 0, 0, 0, 0, 0, 0, 0, 0, 0, 0, 0, 0, 2, 200, 254, 252, 66, 0, 0, 0, 0, 0, 0, 0, 0], [0, 0, 0, 0, 0, 0, 0, 0, 0, 0, 0, 0, 0, 0, 0, 101, 254, 254, 143, 0, 0, 0, 0, 0, 0, 0, 0, 0], [0, 0, 0, 0, 0, 0, 0, 0, 0, 0, 0, 0, 0, 0, 0, 80, 254, 254, 95, 0, 0, 0, 0, 0, 0, 0, 0, 0], [0, 0, 0, 0, 0, 0, 0, 0, 0, 0, 0, 0, 0, 0, 0, 157, 254, 213, 10, 0, 0, 0, 0, 0, 0, 0, 0, 0], [0, 0, 0, 0, 0, 0, 0, 0, 0, 0, 0, 0, 0, 0, 23, 235, 254, 85, 0, 0, 0, 0, 0, 0, 0, 0, 0, 0], [0, 0, 0, 0, 0, 0, 0, 0, 0, 0, 0, 0, 0, 0, 88, 254, 251, 66, 0, 0, 0, 0, 0, 0, 0, 0, 0, 0], [0, 0, 0, 0, 0, 0, 0, 0, 0, 0, 0, 0, 0, 0, 160, 254, 153, 0, 0, 0, 0, 0, 0, 0, 0, 0, 0, 0], [0, 0, 0, 0, 0, 0, 0, 0, 0, 0, 0, 0, 0, 0, 91, 225, 15, 0, 0, 0, 0, 0, 0, 0, 0, 0, 0, 0], [0, 0, 0, 0, 0, 0, 0, 0, 0, 0, 0, 0, 0, 0, 0, 0, 0, 0, 0, 0, 0, 0, 0, 0, 0, 0, 0, 0]]}],                        {\"coloraxis\": {\"colorscale\": [[0.0, \"rgb(0, 0, 0)\"], [0.09090909090909091, \"rgb(16, 16, 16)\"], [0.18181818181818182, \"rgb(38, 38, 38)\"], [0.2727272727272727, \"rgb(59, 59, 59)\"], [0.36363636363636365, \"rgb(81, 80, 80)\"], [0.45454545454545453, \"rgb(102, 101, 101)\"], [0.5454545454545454, \"rgb(124, 123, 122)\"], [0.6363636363636364, \"rgb(146, 146, 145)\"], [0.7272727272727273, \"rgb(171, 171, 170)\"], [0.8181818181818182, \"rgb(197, 197, 195)\"], [0.9090909090909091, \"rgb(224, 224, 223)\"], [1.0, \"rgb(254, 254, 253)\"]]}, \"margin\": {\"t\": 60}, \"template\": {\"data\": {\"bar\": [{\"error_x\": {\"color\": \"#f2f5fa\"}, \"error_y\": {\"color\": \"#f2f5fa\"}, \"marker\": {\"line\": {\"color\": \"rgb(17,17,17)\", \"width\": 0.5}}, \"type\": \"bar\"}], \"barpolar\": [{\"marker\": {\"line\": {\"color\": \"rgb(17,17,17)\", \"width\": 0.5}}, \"type\": \"barpolar\"}], \"carpet\": [{\"aaxis\": {\"endlinecolor\": \"#A2B1C6\", \"gridcolor\": \"#506784\", \"linecolor\": \"#506784\", \"minorgridcolor\": \"#506784\", \"startlinecolor\": \"#A2B1C6\"}, \"baxis\": {\"endlinecolor\": \"#A2B1C6\", \"gridcolor\": \"#506784\", \"linecolor\": \"#506784\", \"minorgridcolor\": \"#506784\", \"startlinecolor\": \"#A2B1C6\"}, \"type\": \"carpet\"}], \"choropleth\": [{\"colorbar\": {\"outlinewidth\": 0, \"ticks\": \"\"}, \"type\": \"choropleth\"}], \"contour\": [{\"colorbar\": {\"outlinewidth\": 0, \"ticks\": \"\"}, \"colorscale\": [[0.0, \"#0d0887\"], [0.1111111111111111, \"#46039f\"], [0.2222222222222222, \"#7201a8\"], [0.3333333333333333, \"#9c179e\"], [0.4444444444444444, \"#bd3786\"], [0.5555555555555556, \"#d8576b\"], [0.6666666666666666, \"#ed7953\"], [0.7777777777777778, \"#fb9f3a\"], [0.8888888888888888, \"#fdca26\"], [1.0, \"#f0f921\"]], \"type\": \"contour\"}], \"contourcarpet\": [{\"colorbar\": {\"outlinewidth\": 0, \"ticks\": \"\"}, \"type\": \"contourcarpet\"}], \"heatmap\": [{\"colorbar\": {\"outlinewidth\": 0, \"ticks\": \"\"}, \"colorscale\": [[0.0, \"#0d0887\"], [0.1111111111111111, \"#46039f\"], [0.2222222222222222, \"#7201a8\"], [0.3333333333333333, \"#9c179e\"], [0.4444444444444444, \"#bd3786\"], [0.5555555555555556, \"#d8576b\"], [0.6666666666666666, \"#ed7953\"], [0.7777777777777778, \"#fb9f3a\"], [0.8888888888888888, \"#fdca26\"], [1.0, \"#f0f921\"]], \"type\": \"heatmap\"}], \"heatmapgl\": [{\"colorbar\": {\"outlinewidth\": 0, \"ticks\": \"\"}, \"colorscale\": [[0.0, \"#0d0887\"], [0.1111111111111111, \"#46039f\"], [0.2222222222222222, \"#7201a8\"], [0.3333333333333333, \"#9c179e\"], [0.4444444444444444, \"#bd3786\"], [0.5555555555555556, \"#d8576b\"], [0.6666666666666666, \"#ed7953\"], [0.7777777777777778, \"#fb9f3a\"], [0.8888888888888888, \"#fdca26\"], [1.0, \"#f0f921\"]], \"type\": \"heatmapgl\"}], \"histogram\": [{\"marker\": {\"colorbar\": {\"outlinewidth\": 0, \"ticks\": \"\"}}, \"type\": \"histogram\"}], \"histogram2d\": [{\"colorbar\": {\"outlinewidth\": 0, \"ticks\": \"\"}, \"colorscale\": [[0.0, \"#0d0887\"], [0.1111111111111111, \"#46039f\"], [0.2222222222222222, \"#7201a8\"], [0.3333333333333333, \"#9c179e\"], [0.4444444444444444, \"#bd3786\"], [0.5555555555555556, \"#d8576b\"], [0.6666666666666666, \"#ed7953\"], [0.7777777777777778, \"#fb9f3a\"], [0.8888888888888888, \"#fdca26\"], [1.0, \"#f0f921\"]], \"type\": \"histogram2d\"}], \"histogram2dcontour\": [{\"colorbar\": {\"outlinewidth\": 0, \"ticks\": \"\"}, \"colorscale\": [[0.0, \"#0d0887\"], [0.1111111111111111, \"#46039f\"], [0.2222222222222222, \"#7201a8\"], [0.3333333333333333, \"#9c179e\"], [0.4444444444444444, \"#bd3786\"], [0.5555555555555556, \"#d8576b\"], [0.6666666666666666, \"#ed7953\"], [0.7777777777777778, \"#fb9f3a\"], [0.8888888888888888, \"#fdca26\"], [1.0, \"#f0f921\"]], \"type\": \"histogram2dcontour\"}], \"mesh3d\": [{\"colorbar\": {\"outlinewidth\": 0, \"ticks\": \"\"}, \"type\": \"mesh3d\"}], \"parcoords\": [{\"line\": {\"colorbar\": {\"outlinewidth\": 0, \"ticks\": \"\"}}, \"type\": \"parcoords\"}], \"pie\": [{\"automargin\": true, \"type\": \"pie\"}], \"scatter\": [{\"marker\": {\"line\": {\"color\": \"#283442\"}}, \"type\": \"scatter\"}], \"scatter3d\": [{\"line\": {\"colorbar\": {\"outlinewidth\": 0, \"ticks\": \"\"}}, \"marker\": {\"colorbar\": {\"outlinewidth\": 0, \"ticks\": \"\"}}, \"type\": \"scatter3d\"}], \"scattercarpet\": [{\"marker\": {\"colorbar\": {\"outlinewidth\": 0, \"ticks\": \"\"}}, \"type\": \"scattercarpet\"}], \"scattergeo\": [{\"marker\": {\"colorbar\": {\"outlinewidth\": 0, \"ticks\": \"\"}}, \"type\": \"scattergeo\"}], \"scattergl\": [{\"marker\": {\"line\": {\"color\": \"#283442\"}}, \"type\": \"scattergl\"}], \"scattermapbox\": [{\"marker\": {\"colorbar\": {\"outlinewidth\": 0, \"ticks\": \"\"}}, \"type\": \"scattermapbox\"}], \"scatterpolar\": [{\"marker\": {\"colorbar\": {\"outlinewidth\": 0, \"ticks\": \"\"}}, \"type\": \"scatterpolar\"}], \"scatterpolargl\": [{\"marker\": {\"colorbar\": {\"outlinewidth\": 0, \"ticks\": \"\"}}, \"type\": \"scatterpolargl\"}], \"scatterternary\": [{\"marker\": {\"colorbar\": {\"outlinewidth\": 0, \"ticks\": \"\"}}, \"type\": \"scatterternary\"}], \"surface\": [{\"colorbar\": {\"outlinewidth\": 0, \"ticks\": \"\"}, \"colorscale\": [[0.0, \"#0d0887\"], [0.1111111111111111, \"#46039f\"], [0.2222222222222222, \"#7201a8\"], [0.3333333333333333, \"#9c179e\"], [0.4444444444444444, \"#bd3786\"], [0.5555555555555556, \"#d8576b\"], [0.6666666666666666, \"#ed7953\"], [0.7777777777777778, \"#fb9f3a\"], [0.8888888888888888, \"#fdca26\"], [1.0, \"#f0f921\"]], \"type\": \"surface\"}], \"table\": [{\"cells\": {\"fill\": {\"color\": \"#506784\"}, \"line\": {\"color\": \"rgb(17,17,17)\"}}, \"header\": {\"fill\": {\"color\": \"#2a3f5f\"}, \"line\": {\"color\": \"rgb(17,17,17)\"}}, \"type\": \"table\"}]}, \"layout\": {\"annotationdefaults\": {\"arrowcolor\": \"#f2f5fa\", \"arrowhead\": 0, \"arrowwidth\": 1}, \"autotypenumbers\": \"strict\", \"coloraxis\": {\"colorbar\": {\"outlinewidth\": 0, \"ticks\": \"\"}}, \"colorscale\": {\"diverging\": [[0, \"#8e0152\"], [0.1, \"#c51b7d\"], [0.2, \"#de77ae\"], [0.3, \"#f1b6da\"], [0.4, \"#fde0ef\"], [0.5, \"#f7f7f7\"], [0.6, \"#e6f5d0\"], [0.7, \"#b8e186\"], [0.8, \"#7fbc41\"], [0.9, \"#4d9221\"], [1, \"#276419\"]], \"sequential\": [[0.0, \"#0d0887\"], [0.1111111111111111, \"#46039f\"], [0.2222222222222222, \"#7201a8\"], [0.3333333333333333, \"#9c179e\"], [0.4444444444444444, \"#bd3786\"], [0.5555555555555556, \"#d8576b\"], [0.6666666666666666, \"#ed7953\"], [0.7777777777777778, \"#fb9f3a\"], [0.8888888888888888, \"#fdca26\"], [1.0, \"#f0f921\"]], \"sequentialminus\": [[0.0, \"#0d0887\"], [0.1111111111111111, \"#46039f\"], [0.2222222222222222, \"#7201a8\"], [0.3333333333333333, \"#9c179e\"], [0.4444444444444444, \"#bd3786\"], [0.5555555555555556, \"#d8576b\"], [0.6666666666666666, \"#ed7953\"], [0.7777777777777778, \"#fb9f3a\"], [0.8888888888888888, \"#fdca26\"], [1.0, \"#f0f921\"]]}, \"colorway\": [\"#636efa\", \"#EF553B\", \"#00cc96\", \"#ab63fa\", \"#FFA15A\", \"#19d3f3\", \"#FF6692\", \"#B6E880\", \"#FF97FF\", \"#FECB52\"], \"font\": {\"color\": \"#f2f5fa\"}, \"geo\": {\"bgcolor\": \"rgb(17,17,17)\", \"lakecolor\": \"rgb(17,17,17)\", \"landcolor\": \"rgb(17,17,17)\", \"showlakes\": true, \"showland\": true, \"subunitcolor\": \"#506784\"}, \"hoverlabel\": {\"align\": \"left\"}, \"hovermode\": \"closest\", \"mapbox\": {\"style\": \"dark\"}, \"paper_bgcolor\": \"rgb(17,17,17)\", \"plot_bgcolor\": \"rgb(17,17,17)\", \"polar\": {\"angularaxis\": {\"gridcolor\": \"#506784\", \"linecolor\": \"#506784\", \"ticks\": \"\"}, \"bgcolor\": \"rgb(17,17,17)\", \"radialaxis\": {\"gridcolor\": \"#506784\", \"linecolor\": \"#506784\", \"ticks\": \"\"}}, \"scene\": {\"xaxis\": {\"backgroundcolor\": \"rgb(17,17,17)\", \"gridcolor\": \"#506784\", \"gridwidth\": 2, \"linecolor\": \"#506784\", \"showbackground\": true, \"ticks\": \"\", \"zerolinecolor\": \"#C8D4E3\"}, \"yaxis\": {\"backgroundcolor\": \"rgb(17,17,17)\", \"gridcolor\": \"#506784\", \"gridwidth\": 2, \"linecolor\": \"#506784\", \"showbackground\": true, \"ticks\": \"\", \"zerolinecolor\": \"#C8D4E3\"}, \"zaxis\": {\"backgroundcolor\": \"rgb(17,17,17)\", \"gridcolor\": \"#506784\", \"gridwidth\": 2, \"linecolor\": \"#506784\", \"showbackground\": true, \"ticks\": \"\", \"zerolinecolor\": \"#C8D4E3\"}}, \"shapedefaults\": {\"line\": {\"color\": \"#f2f5fa\"}}, \"sliderdefaults\": {\"bgcolor\": \"#C8D4E3\", \"bordercolor\": \"rgb(17,17,17)\", \"borderwidth\": 1, \"tickwidth\": 0}, \"ternary\": {\"aaxis\": {\"gridcolor\": \"#506784\", \"linecolor\": \"#506784\", \"ticks\": \"\"}, \"baxis\": {\"gridcolor\": \"#506784\", \"linecolor\": \"#506784\", \"ticks\": \"\"}, \"bgcolor\": \"rgb(17,17,17)\", \"caxis\": {\"gridcolor\": \"#506784\", \"linecolor\": \"#506784\", \"ticks\": \"\"}}, \"title\": {\"x\": 0.05}, \"updatemenudefaults\": {\"bgcolor\": \"#506784\", \"borderwidth\": 0}, \"xaxis\": {\"automargin\": true, \"gridcolor\": \"#283442\", \"linecolor\": \"#506784\", \"ticks\": \"\", \"title\": {\"standoff\": 15}, \"zerolinecolor\": \"#283442\", \"zerolinewidth\": 2}, \"yaxis\": {\"automargin\": true, \"gridcolor\": \"#283442\", \"linecolor\": \"#506784\", \"ticks\": \"\", \"title\": {\"standoff\": 15}, \"zerolinecolor\": \"#283442\", \"zerolinewidth\": 2}}}, \"title\": {\"text\": \"The label is 9\"}, \"xaxis\": {\"anchor\": \"y\", \"constrain\": \"domain\", \"domain\": [0.0, 1.0], \"scaleanchor\": \"y\"}, \"yaxis\": {\"anchor\": \"x\", \"autorange\": \"reversed\", \"constrain\": \"domain\", \"domain\": [0.0, 1.0]}},                        {\"responsive\": true}                    ).then(function(){\n",
       "                            \n",
       "var gd = document.getElementById('1df10553-232d-4c00-8e4c-d8254f59c30d');\n",
       "var x = new MutationObserver(function (mutations, observer) {{\n",
       "        var display = window.getComputedStyle(gd).display;\n",
       "        if (!display || display === 'none') {{\n",
       "            console.log([gd, 'removed!']);\n",
       "            Plotly.purge(gd);\n",
       "            observer.disconnect();\n",
       "        }}\n",
       "}});\n",
       "\n",
       "// Listen for the removal of the full notebook cells\n",
       "var notebookContainer = gd.closest('#notebook-container');\n",
       "if (notebookContainer) {{\n",
       "    x.observe(notebookContainer, {childList: true});\n",
       "}}\n",
       "\n",
       "// Listen for the clearing of the current output cell\n",
       "var outputEl = gd.closest('.output');\n",
       "if (outputEl) {{\n",
       "    x.observe(outputEl, {childList: true});\n",
       "}}\n",
       "\n",
       "                        })                };                });            </script>        </div>"
      ]
     },
     "metadata": {},
     "output_type": "display_data"
    }
   ],
   "source": [
    "indx = 2\n",
    "fig = px.imshow(X[indx,:].reshape(28,28), color_continuous_scale='gray')\n",
    "\n",
    "fig.update_layout(title=f'The label is {y[indx]}')\n",
    "\n",
    "fig.show()"
   ]
  },
  {
   "cell_type": "code",
   "execution_count": 13,
   "metadata": {},
   "outputs": [],
   "source": [
    "X_train, X_test, y_train, y_test = train_test_split(X, y, test_size=0.2, random_state=101)"
   ]
  },
  {
   "cell_type": "code",
   "execution_count": 14,
   "metadata": {},
   "outputs": [
    {
     "data": {
      "text/plain": [
       "((15999, 784), (4000, 784))"
      ]
     },
     "execution_count": 14,
     "metadata": {},
     "output_type": "execute_result"
    }
   ],
   "source": [
    "X_train.shape, X_test.shape"
   ]
  },
  {
   "cell_type": "code",
   "execution_count": 17,
   "metadata": {},
   "outputs": [
    {
     "name": "stdout",
     "output_type": "stream",
     "text": [
      "The Accuracy for- Train: 0.9728733045815363, Test: 0.9585\n",
      "The Accuracy for- Train: 0.9728733045815363, Test: 0.9585\n",
      "The Accuracy for- Train: 0.9728733045815363, Test: 0.9585\n",
      "16.7 s ± 343 ms per loop (mean ± std. dev. of 3 runs, 1 loop each)\n"
     ]
    }
   ],
   "source": [
    "%%timeit -r 3 -n 1\n",
    "knn = KNeighborsClassifier().fit(X_train, y_train)\n",
    "\n",
    "y_trpred = knn.predict(X_train)\n",
    "y_tepred = knn.predict(X_test)\n",
    "\n",
    "print(f'The Accuracy for- Train: {accuracy_score(y_train,y_trpred)}, Test: {accuracy_score(y_test,y_tepred)}')"
   ]
  },
  {
   "cell_type": "code",
   "execution_count": 18,
   "metadata": {},
   "outputs": [],
   "source": [
    "pca = PCA(n_components=0.95, random_state=101).fit(X_train)\n",
    "\n",
    "X_train_d = pca.transform(X_train)\n",
    "X_test_d = pca.transform(X_test)"
   ]
  },
  {
   "cell_type": "code",
   "execution_count": 19,
   "metadata": {},
   "outputs": [
    {
     "data": {
      "text/plain": [
       "((15999, 784), (15999, 153))"
      ]
     },
     "execution_count": 19,
     "metadata": {},
     "output_type": "execute_result"
    }
   ],
   "source": [
    "X_train.shape, X_train_d.shape"
   ]
  },
  {
   "cell_type": "code",
   "execution_count": 21,
   "metadata": {},
   "outputs": [
    {
     "data": {
      "application/vnd.plotly.v1+json": {
       "config": {
        "plotlyServerURL": "https://plot.ly"
       },
       "data": [
        {
         "coloraxis": "coloraxis",
         "hovertemplate": "x: %{x}<br>y: %{y}<br>color: %{z}<extra></extra>",
         "name": "0",
         "type": "heatmap",
         "xaxis": "x",
         "yaxis": "y",
         "z": [
          [
           4.348761702791869e-15,
           1.1292540966054639e-13,
           -2.3304076988484406e-13,
           6.658816098200292e-13,
           1.4962877026029267e-13,
           -9.394069241575763e-14,
           -7.73259757168262e-14,
           1.3084776784385821e-13,
           3.6450912214406725e-14,
           8.07772834248069e-15,
           3.0320357024170285e-13,
           -1.5469802040671166e-13,
           2.7750216855080907e-14,
           -1.227516226416536e-13,
           -5.253076184467221e-14,
           -3.3624576772577664e-14,
           -1.0968705860198234e-13,
           4.2995450642918935e-14,
           4.8218301005007164e-14,
           1.3085895109025662e-13,
           7.822150477263144e-15,
           8.03244748676242e-15,
           -7.722959763704564e-14,
           3.291560192117781e-14,
           -1.743317405501321e-14,
           -7.42024006351874e-15,
           1.4854984875938966e-15,
           -5.795447232673368e-14
          ],
          [
           -4.866835047280708e-14,
           1.661863554553254e-14,
           -5.1116868862563716e-14,
           4.08840769423793e-14,
           -1.0714627018527363e-13,
           4.3826308213137566e-14,
           -0.07678173059439283,
           -0.09287363652086675,
           0.001537164938353458,
           0.3480288170473209,
           0.9536162409273826,
           0.08225870430134133,
           0.1526745031405827,
           0.3811404874926413,
           -0.4602841658510287,
           -1.1287106703273007,
           -0.06470540204573119,
           1.6583829131286902,
           2.3761893015085005,
           1.5700307442366268,
           0.884712353548141,
           0.11390764577317372,
           9.493619801132596e-14,
           -5.61906790801376e-14,
           -1.8630707687630397e-14,
           -3.293906787199405e-14,
           1.0527815086874222e-13,
           -3.9092661934394674e-14
          ],
          [
           3.06497963267188e-14,
           8.586276656344266e-14,
           -4.165929037251199e-15,
           0.007079516041302558,
           -0.08219132677847929,
           0.0001957548419143306,
           0.10574795102211013,
           0.49718462452421647,
           0.9165150979389141,
           1.4998387744881896,
           2.1782533594207134,
           0.8790125320251223,
           -0.41880798855842793,
           -3.6698873972914,
           -8.297370035815431,
           -6.867984345880428,
           25.764005281131368,
           66.24719174838583,
           74.87278394228781,
           43.55165659580297,
           13.595479573577268,
           1.5846652107209602,
           -1.1661253958363333,
           -0.37861532198947767,
           -0.08915355048739787,
           -0.04805428283274377,
           -2.6949783107077833e-14,
           -4.4718022014313793e-14
          ],
          [
           1.0637579347506481e-14,
           2.7889578955411608e-14,
           5.2610791800985084e-14,
           -0.11306512544624199,
           -0.022334128001837723,
           0.1677254347542665,
           0.4323895282330559,
           1.9013849191176249,
           2.562909301208241,
           1.9246635646549475,
           0.5554022958417337,
           -4.09630749086874,
           -9.232845598884753,
           -18.052363493381534,
           -20.855664528530397,
           11.129487382641948,
           95.38409055931315,
           169.18013991275345,
           151.55118824597608,
           74.23929394220417,
           7.5074883385545395,
           -7.543637059463528,
           -6.4998088995027254,
           -1.2803225905948623,
           -0.2742445913266798,
           -0.049272301511910054,
           -0.0010858499459080037,
           -5.160185802344841e-14
          ],
          [
           3.190080658074813e-14,
           0.006757646973507574,
           1.9129230047468183e-14,
           -0.15811105469985612,
           0.3869328594841958,
           1.6741100802547784,
           2.4457010218410806,
           4.321848518311475,
           4.479644119895229,
           6.197220075768467,
           5.027149378539166,
           9.762404279407784,
           22.78190895025572,
           10.976678177059966,
           -28.540754074189216,
           8.860570831326264,
           115.78723873206062,
           151.8645967851198,
           75.46182124545814,
           -12.348791658542222,
           -36.53767302506827,
           -14.420273816496643,
           -0.5291506547941474,
           3.3476477678041947,
           2.4145458201196757,
           0.9037229713234076,
           0.11523913995459031,
           -3.0963471360616916e-14
          ],
          [
           4.9321723046164093e-14,
           -7.040026507749859e-15,
           -0.0018823420785684369,
           -0.18827147730747948,
           0.9102440732887118,
           2.3612655822892306,
           2.061438513484653,
           0.7325835423372213,
           -4.290732552575122,
           -6.373316352110944,
           -17.106819538963933,
           -10.554748780319343,
           12.590969663636713,
           -13.525607675385999,
           -17.295097663450008,
           120.73746594374587,
           234.10808893868412,
           158.06213399035292,
           18.651516864578277,
           -21.06794003083717,
           -12.062759589144598,
           6.444801204568163,
           14.075938137307284,
           6.693975321866206,
           -0.03676847521326376,
           0.9582454475683859,
           0.011377618869848963,
           1.7900801063373304e-14
          ],
          [
           -2.2414000512351487e-14,
           1.2214235789745839e-14,
           0.18428040661387476,
           0.7266225958150219,
           2.582803009416684,
           3.0528952743037108,
           -0.7273290082296082,
           -5.863231101002974,
           -5.805849990967012,
           0.918006860899446,
           -6.153489767091202,
           8.612559180802442,
           17.790893552215095,
           -12.609484981295026,
           50.90973992072561,
           218.1309921929536,
           239.95653471028555,
           71.06434601381625,
           -31.816523711339514,
           -0.4911659815735874,
           14.744267504803474,
           6.9150749836282905,
           4.750846812537585,
           0.4239404815748564,
           -5.01803082476962,
           -2.6198184679817156,
           -0.6675964445966107,
           0.09304656702258327
          ],
          [
           0.00904918326191566,
           0.10316180221069618,
           0.22888673949336819,
           2.375083732638868,
           6.269421213917496,
           8.244269822409676,
           0.9886762449917192,
           -3.808555571252896,
           15.00275154844826,
           15.658573987223683,
           -14.474614367853832,
           -2.7084260535591653,
           -3.8477131214310134,
           -20.882835202569908,
           114.29292312634837,
           239.66450922505172,
           136.78169354653517,
           -1.76213080359625,
           -14.009968837748133,
           23.23788053520032,
           6.230155549186549,
           -11.656264553728562,
           -9.60011690679967,
           -10.440083176557948,
           -9.445730024307124,
           -5.5149403307947615,
           -0.409190160897089,
           0.10922481242160398
          ],
          [
           0.03677434048990711,
           0.33803566770229543,
           0.5377449248240866,
           6.109848354859329,
           12.015261785767972,
           9.308607123172674,
           -6.817936061577004,
           -6.134061474920838,
           12.151925989441672,
           -2.463531305038387,
           -11.912378918287146,
           15.286592977882378,
           -10.113443317947045,
           52.12016076921489,
           226.19306625533198,
           218.52944144903194,
           41.52591923572413,
           -17.07038352162185,
           7.166560464270816,
           0.23986226665746813,
           -14.062448603266844,
           -6.798030633598181,
           1.1232513929930334,
           5.721400293121784,
           3.2407324384796823,
           2.0655806520407034,
           0.8956016121315626,
           0.05115244879829471
          ],
          [
           0.00596861023658456,
           0.5268776690082735,
           1.3820264246387874,
           6.3747250623785225,
           9.442859501330133,
           0.4108312306714641,
           -12.255629303699141,
           -6.238083761044805,
           -1.315447028822895,
           -10.654981513274265,
           13.791354205735502,
           1.9609307130650109,
           -11.626170523032357,
           145.9814932229885,
           257.3988454909461,
           111.84778755584841,
           -21.325285752906424,
           1.4166415739095868,
           14.941565444257648,
           -11.011162636354157,
           -7.153435318174587,
           10.683710145692856,
           12.782035773833648,
           13.204224361731232,
           7.374013954382376,
           4.463869677190523,
           0.26337385780834244,
           0.06386805718595509
          ],
          [
           1.2723475547413059e-24,
           0.2646362193630399,
           1.2848743588991933,
           3.225230026577761,
           2.445226033456451,
           -4.842758825023909,
           -4.7668471617442165,
           6.425085978203569,
           -6.779344628166363,
           2.7891932390596708,
           9.305285820398737,
           -21.354869833677228,
           81.33688112870347,
           257.70948017679575,
           221.16911328511333,
           28.41657157863868,
           -3.3655020097238406,
           20.681955988923093,
           0.6549659849835052,
           0.6970309704600908,
           9.031952475191268,
           1.938032678654416,
           -7.670229408008481,
           -3.357279327314128,
           -2.1411015144736423,
           1.8330454822310507,
           0.21687926113722714,
           3.297581444927929e-32
          ],
          [
           -7.593208355584555e-31,
           0.05279194986940478,
           0.48515949857296814,
           0.026654178971176057,
           -0.5628006185261865,
           -3.414105004075209,
           8.242342659493719,
           9.09065958056572,
           -6.693252294965603,
           12.043868413871664,
           -19.21613264182524,
           -0.4731596007483887,
           165.73382665970462,
           236.50693180949355,
           88.1886506632044,
           -23.68446277428862,
           -9.0161437617258,
           -39.35625356219187,
           -34.26765493143441,
           -0.8942118582753977,
           -2.1787151332256087,
           -11.53206148803708,
           -13.013913999414669,
           -9.188182068586016,
           -7.2520023268108424,
           0.08015386282551185,
           -0.007620166011973684,
           0.006015726989477676
          ],
          [
           -1.641109464544652e-30,
           0.030327322626974632,
           0.13174206822424397,
           -0.8442549093592701,
           -0.3325444083486597,
           0.20035473625021005,
           9.007809250576972,
           -0.48926197410939665,
           -5.912651809914479,
           15.052254923150613,
           -18.65323887401813,
           55.146977576554285,
           215.0623376333914,
           220.6238083943907,
           125.69887693887758,
           111.18778060067982,
           104.00529213185165,
           54.80648355854781,
           37.97314913255532,
           28.323180730113037,
           -7.394715094727879,
           -3.424928559461655,
           6.613794028517059,
           -1.5116165923811895,
           -8.642654319466885,
           -0.32287947829264296,
           0.44764714542876116,
           0.12231765508207113
          ],
          [
           0,
           0.08091125424229755,
           0.27448023019897283,
           -0.4132271254299239,
           0.7048461081253201,
           1.8788938770399355,
           1.1189999977962586,
           -7.990334010425677,
           4.682824063707457,
           5.614386525631943,
           10.717208436519712,
           152.98344888626397,
           276.4103887290138,
           264.68886949853675,
           220.1931218515187,
           220.10516795934666,
           210.40598382605526,
           199.32827368786437,
           191.78492474697384,
           111.2452598900937,
           1.5974458743247268,
           1.6113243907011423,
           19.818803116444727,
           6.063464252527421,
           -7.2146994329891125,
           0.18830254703779803,
           0.7113342933283816,
           0.05506114540353732
          ],
          [
           0,
           0.14791929338674448,
           0.20872659754232378,
           -0.8224643072865543,
           1.6665416461867144,
           0.18083804250663071,
           -4.473911503387928,
           -1.1368350505562859,
           2.6107125984568285,
           -21.57495517195865,
           49.83482559459272,
           214.64111797595058,
           235.83396643653944,
           112.41233550610785,
           65.49338637790927,
           69.77782871805123,
           73.5747629694468,
           141.76316649406795,
           249.59173068852925,
           197.54281277332854,
           15.593419694805185,
           -15.686447911562354,
           13.533810195121987,
           7.683230427145448,
           -3.5939103669964663,
           -0.2519178627114076,
           0.4829954373920572,
           0
          ],
          [
           0,
           0,
           0.5388003927641885,
           0.8194203917484815,
           5.072012956369568,
           -5.609927337819952,
           -10.633769252181,
           13.830901425536268,
           1.4830233164284152,
           -11.399720348458686,
           133.2058159752911,
           266.8151978386062,
           137.42187992340405,
           -17.043427160408527,
           -5.188033335998853,
           0.34898103813696935,
           -44.27569929660618,
           50.058396977330716,
           233.4676914563394,
           194.48810489087774,
           17.226710635063547,
           -26.74786722965836,
           -0.0697986945516611,
           1.3259366896152862,
           -1.2518713150365288,
           0.04531680903759294,
           0.6819587042242984,
           0.09234762289374956
          ],
          [
           0,
           0.12124820146959528,
           1.0324266173022605,
           2.8957813671576473,
           10.228639861980664,
           -5.799250606001451,
           -6.025758689774555,
           14.503047618976233,
           -2.688714381992739,
           19.8626137483418,
           191.66346456514162,
           235.43369687137834,
           41.107110904913924,
           -32.24667354073999,
           33.91683223575295,
           -9.537027916753146,
           -19.770681891838862,
           125.22018969578454,
           226.46571618262388,
           130.94598244186065,
           9.132815754276727,
           -11.414871569705866,
           0.43749427420232223,
           0.3323891728825519,
           0.947255241070919,
           1.2870065728749585,
           1.1254734715112515,
           0.18869622639592673
          ],
          [
           0,
           0.07643837901825354,
           0.9872350698793635,
           4.418625864469931,
           16.117427095307633,
           -0.3959941863397063,
           -1.9842739122785815,
           2.9557017305676467,
           -16.883798111282033,
           38.40773418888365,
           231.91692829446447,
           222.3038398828421,
           22.95600327985119,
           -14.069193009367595,
           24.365826633411288,
           -12.735960512091623,
           95.93746110127726,
           235.1887693085862,
           185.51623866660077,
           41.36361364390118,
           -3.7017893606026036,
           11.80452358698357,
           5.324217045816088,
           0.9180224564247066,
           3.8138228283376288,
           1.7234400334170192,
           1.0646207757662578,
           0.04726018358680387
          ],
          [
           -0.014498203945240179,
           0.029142170099012262,
           1.1556998395437639,
           4.486920860124058,
           12.616921795987917,
           1.8896849878399316,
           1.6708864943876307,
           6.219985778283842,
           -22.654269227669886,
           53.04971763812822,
           255.8259794802172,
           224.48051992015053,
           9.131439285126746,
           -51.981801761194106,
           12.417346027165706,
           94.35158348149723,
           214.60430448023124,
           198.54921233415337,
           64.76542845537642,
           -24.316989219188102,
           -5.791567542465501,
           9.969602291423879,
           -2.573833348068085,
           -4.35299742499145,
           0.17590476378432918,
           0.2574819195303011,
           0.8560404057701607,
           0.2401228101460568
          ],
          [
           0,
           0.13736971895457364,
           1.7931160312444496,
           3.599395264511992,
           3.697849282332694,
           -9.34076572079448,
           1.6124591084150381,
           20.34667573641759,
           -20.419218154414054,
           37.39659936144036,
           228.1404128901292,
           213.88447111715092,
           48.06520308860212,
           38.89849192120085,
           154.4252089003791,
           247.8613444352291,
           219.22794833723404,
           74.02809776485799,
           -10.557209543067927,
           -13.014457841740523,
           2.8988260129489802,
           -3.379727216619031,
           -8.60997512377384,
           -6.5018622376096324,
           -1.8369937231102065,
           -0.3671777596143102,
           0.12375042494891869,
           0.16864176492873745
          ],
          [
           0,
           0.21543377606688996,
           2.4911626686926995,
           2.5684977856310027,
           0.3829542623850877,
           -13.236854335604463,
           -9.581854349966434,
           15.625641942773179,
           -17.17301866909314,
           1.7319019841144296,
           157.8988155776123,
           230.9212302838266,
           216.64405140987316,
           256.70984306974606,
           268.3723896687753,
           191.98334152074364,
           69.61532193494435,
           -26.040412447826697,
           -5.344180979326538,
           17.350860649382554,
           -1.050185403518313,
           -6.856333521969628,
           1.1291831425451555,
           3.891708666425757,
           2.4323241098580355,
           0.44994387843855665,
           -0.39284725533629783,
           0
          ],
          [
           0,
           0.12564928473491066,
           0.6535932238719335,
           3.771221367219964,
           6.326532456647265,
           -5.584087456682308,
           -11.79355458544137,
           9.657898434899543,
           0.8347758719877731,
           -17.281643329239046,
           50.146797785376435,
           174.04639376929396,
           244.1525143914487,
           228.97389369894125,
           111.50216680226967,
           11.037963090830686,
           -16.62052139412428,
           -12.831588571665606,
           17.864936964787823,
           5.122412993366773,
           -6.499342035564663,
           3.636423410834894,
           14.20752085355749,
           9.839552487752117,
           3.5234403279350603,
           0.31970590928251946,
           -0.02931544347869458,
           0
          ],
          [
           0,
           0.0037593584994716485,
           0.8999069392025425,
           5.097177755073279,
           13.701098194152232,
           12.68693987277478,
           -4.800261971440801,
           2.01927023910563,
           19.938930735849482,
           -1.9502361484774866,
           -28.141375748884386,
           -18.439423592556807,
           19.64528049174909,
           19.429911175358498,
           -17.825116077473155,
           -2.7964557652712756,
           18.685286794284707,
           1.9565230672317284,
           -1.0809084564019358,
           -10.094382412157962,
           -5.821150479864116,
           5.001265514123347,
           6.716876724586208,
           5.085553547550801,
           1.868710687329838,
           0.3600695229163086,
           -0.03553002872176927,
           0
          ],
          [
           0,
           0,
           1.2626665918951565,
           3.6923939939604398,
           14.588225793160792,
           21.26484339966565,
           11.094640688880038,
           -11.584850379172,
           -9.543506922064857,
           9.252684528309459,
           17.54207338562817,
           -0.5570431110067915,
           -1.780205724875458,
           2.5224129506298425,
           -2.5197488511373223,
           4.413242232051331,
           -0.7110303327706404,
           -9.91926737688651,
           -3.1017826532130073,
           -4.235778506285223,
           -3.221221474953703,
           -1.3367446623814425,
           1.013787385844486,
           1.7342783567125637,
           0.4206391997784489,
           0.011719877414235781,
           0.0019580136697380244,
           0
          ],
          [
           0,
           0,
           0.7016593539649295,
           1.7894256420134906,
           6.546911721850231,
           10.902606365480532,
           9.06070236159303,
           -4.916906766492016,
           -11.556485297816462,
           2.705020812515869,
           12.037178128785914,
           -10.583089845326484,
           -9.872291291312955,
           3.823793106342535,
           8.150587298752477,
           1.7070083374948908,
           0.25656964627024337,
           7.170624535685585,
           12.086080131298791,
           5.278545218139422,
           0.8979975911774751,
           -0.8645962190644358,
           -0.10812097467100401,
           -0.3103045777688767,
           -0.2255607086339176,
           -0.39302507499129014,
           -0.004480367696208538,
           0
          ],
          [
           0,
           0,
           0.04752022647872797,
           0.10848420747363188,
           0.5756458473825522,
           1.013462305430111,
           -2.4210177898141065,
           -8.177516758468128,
           -7.918450411326181,
           4.183619775376496,
           5.823971376275385,
           -8.679401253843285,
           -8.6769448657991,
           -1.3000182467328685,
           -1.2455718030882181,
           -9.169019268696191,
           -6.615005496499721,
           5.572892361994654,
           11.541630750974308,
           5.215540658625983,
           0.9269153810427999,
           -0.2278442740430987,
           -0.5766479700993555,
           -0.488590051491551,
           -0.01619429774339181,
           0,
           0,
           0
          ],
          [
           0,
           0,
           0,
           0,
           -0.08589966476330206,
           -0.08823660742125794,
           -0.7443726957293229,
           -0.40124086042699636,
           4.806800220049526,
           13.05522768499349,
           12.710421024712035,
           8.842755829805773,
           11.97208732144783,
           14.235350734297764,
           5.781617933117481,
           -4.907877258617229,
           -5.645158141547029,
           0.6909838639767956,
           3.393446089506123,
           2.316413653807353,
           1.0822134856913406,
           0.4089766284011001,
           0.17158836235331978,
           0.042933440107178714,
           0.009105613280757657,
           0,
           0,
           0
          ],
          [
           0,
           0,
           0,
           0,
           0.0025465023603775646,
           0.048019758795692494,
           0.07959208041316339,
           0.4337569598118181,
           0.8208641280442486,
           0.9133130925924361,
           0.07174079630963703,
           1.5355091283916966,
           3.0195627567893126,
           2.575379031593911,
           0.9459325887205842,
           -0.09796760692478257,
           -0.09308133901244531,
           1.2016310965126207,
           1.2369202421958931,
           0.5810627594374606,
           0.256246218235431,
           0.03140863080663821,
           -0.14296163985003252,
           -0.0022730311918701287,
           0,
           0,
           0,
           0
          ]
         ]
        }
       ],
       "layout": {
        "coloraxis": {
         "colorscale": [
          [
           0,
           "rgb(0, 0, 0)"
          ],
          [
           0.09090909090909091,
           "rgb(16, 16, 16)"
          ],
          [
           0.18181818181818182,
           "rgb(38, 38, 38)"
          ],
          [
           0.2727272727272727,
           "rgb(59, 59, 59)"
          ],
          [
           0.36363636363636365,
           "rgb(81, 80, 80)"
          ],
          [
           0.45454545454545453,
           "rgb(102, 101, 101)"
          ],
          [
           0.5454545454545454,
           "rgb(124, 123, 122)"
          ],
          [
           0.6363636363636364,
           "rgb(146, 146, 145)"
          ],
          [
           0.7272727272727273,
           "rgb(171, 171, 170)"
          ],
          [
           0.8181818181818182,
           "rgb(197, 197, 195)"
          ],
          [
           0.9090909090909091,
           "rgb(224, 224, 223)"
          ],
          [
           1,
           "rgb(254, 254, 253)"
          ]
         ]
        },
        "margin": {
         "t": 60
        },
        "template": {
         "data": {
          "bar": [
           {
            "error_x": {
             "color": "#f2f5fa"
            },
            "error_y": {
             "color": "#f2f5fa"
            },
            "marker": {
             "line": {
              "color": "rgb(17,17,17)",
              "width": 0.5
             }
            },
            "type": "bar"
           }
          ],
          "barpolar": [
           {
            "marker": {
             "line": {
              "color": "rgb(17,17,17)",
              "width": 0.5
             }
            },
            "type": "barpolar"
           }
          ],
          "carpet": [
           {
            "aaxis": {
             "endlinecolor": "#A2B1C6",
             "gridcolor": "#506784",
             "linecolor": "#506784",
             "minorgridcolor": "#506784",
             "startlinecolor": "#A2B1C6"
            },
            "baxis": {
             "endlinecolor": "#A2B1C6",
             "gridcolor": "#506784",
             "linecolor": "#506784",
             "minorgridcolor": "#506784",
             "startlinecolor": "#A2B1C6"
            },
            "type": "carpet"
           }
          ],
          "choropleth": [
           {
            "colorbar": {
             "outlinewidth": 0,
             "ticks": ""
            },
            "type": "choropleth"
           }
          ],
          "contour": [
           {
            "colorbar": {
             "outlinewidth": 0,
             "ticks": ""
            },
            "colorscale": [
             [
              0,
              "#0d0887"
             ],
             [
              0.1111111111111111,
              "#46039f"
             ],
             [
              0.2222222222222222,
              "#7201a8"
             ],
             [
              0.3333333333333333,
              "#9c179e"
             ],
             [
              0.4444444444444444,
              "#bd3786"
             ],
             [
              0.5555555555555556,
              "#d8576b"
             ],
             [
              0.6666666666666666,
              "#ed7953"
             ],
             [
              0.7777777777777778,
              "#fb9f3a"
             ],
             [
              0.8888888888888888,
              "#fdca26"
             ],
             [
              1,
              "#f0f921"
             ]
            ],
            "type": "contour"
           }
          ],
          "contourcarpet": [
           {
            "colorbar": {
             "outlinewidth": 0,
             "ticks": ""
            },
            "type": "contourcarpet"
           }
          ],
          "heatmap": [
           {
            "colorbar": {
             "outlinewidth": 0,
             "ticks": ""
            },
            "colorscale": [
             [
              0,
              "#0d0887"
             ],
             [
              0.1111111111111111,
              "#46039f"
             ],
             [
              0.2222222222222222,
              "#7201a8"
             ],
             [
              0.3333333333333333,
              "#9c179e"
             ],
             [
              0.4444444444444444,
              "#bd3786"
             ],
             [
              0.5555555555555556,
              "#d8576b"
             ],
             [
              0.6666666666666666,
              "#ed7953"
             ],
             [
              0.7777777777777778,
              "#fb9f3a"
             ],
             [
              0.8888888888888888,
              "#fdca26"
             ],
             [
              1,
              "#f0f921"
             ]
            ],
            "type": "heatmap"
           }
          ],
          "heatmapgl": [
           {
            "colorbar": {
             "outlinewidth": 0,
             "ticks": ""
            },
            "colorscale": [
             [
              0,
              "#0d0887"
             ],
             [
              0.1111111111111111,
              "#46039f"
             ],
             [
              0.2222222222222222,
              "#7201a8"
             ],
             [
              0.3333333333333333,
              "#9c179e"
             ],
             [
              0.4444444444444444,
              "#bd3786"
             ],
             [
              0.5555555555555556,
              "#d8576b"
             ],
             [
              0.6666666666666666,
              "#ed7953"
             ],
             [
              0.7777777777777778,
              "#fb9f3a"
             ],
             [
              0.8888888888888888,
              "#fdca26"
             ],
             [
              1,
              "#f0f921"
             ]
            ],
            "type": "heatmapgl"
           }
          ],
          "histogram": [
           {
            "marker": {
             "colorbar": {
              "outlinewidth": 0,
              "ticks": ""
             }
            },
            "type": "histogram"
           }
          ],
          "histogram2d": [
           {
            "colorbar": {
             "outlinewidth": 0,
             "ticks": ""
            },
            "colorscale": [
             [
              0,
              "#0d0887"
             ],
             [
              0.1111111111111111,
              "#46039f"
             ],
             [
              0.2222222222222222,
              "#7201a8"
             ],
             [
              0.3333333333333333,
              "#9c179e"
             ],
             [
              0.4444444444444444,
              "#bd3786"
             ],
             [
              0.5555555555555556,
              "#d8576b"
             ],
             [
              0.6666666666666666,
              "#ed7953"
             ],
             [
              0.7777777777777778,
              "#fb9f3a"
             ],
             [
              0.8888888888888888,
              "#fdca26"
             ],
             [
              1,
              "#f0f921"
             ]
            ],
            "type": "histogram2d"
           }
          ],
          "histogram2dcontour": [
           {
            "colorbar": {
             "outlinewidth": 0,
             "ticks": ""
            },
            "colorscale": [
             [
              0,
              "#0d0887"
             ],
             [
              0.1111111111111111,
              "#46039f"
             ],
             [
              0.2222222222222222,
              "#7201a8"
             ],
             [
              0.3333333333333333,
              "#9c179e"
             ],
             [
              0.4444444444444444,
              "#bd3786"
             ],
             [
              0.5555555555555556,
              "#d8576b"
             ],
             [
              0.6666666666666666,
              "#ed7953"
             ],
             [
              0.7777777777777778,
              "#fb9f3a"
             ],
             [
              0.8888888888888888,
              "#fdca26"
             ],
             [
              1,
              "#f0f921"
             ]
            ],
            "type": "histogram2dcontour"
           }
          ],
          "mesh3d": [
           {
            "colorbar": {
             "outlinewidth": 0,
             "ticks": ""
            },
            "type": "mesh3d"
           }
          ],
          "parcoords": [
           {
            "line": {
             "colorbar": {
              "outlinewidth": 0,
              "ticks": ""
             }
            },
            "type": "parcoords"
           }
          ],
          "pie": [
           {
            "automargin": true,
            "type": "pie"
           }
          ],
          "scatter": [
           {
            "marker": {
             "line": {
              "color": "#283442"
             }
            },
            "type": "scatter"
           }
          ],
          "scatter3d": [
           {
            "line": {
             "colorbar": {
              "outlinewidth": 0,
              "ticks": ""
             }
            },
            "marker": {
             "colorbar": {
              "outlinewidth": 0,
              "ticks": ""
             }
            },
            "type": "scatter3d"
           }
          ],
          "scattercarpet": [
           {
            "marker": {
             "colorbar": {
              "outlinewidth": 0,
              "ticks": ""
             }
            },
            "type": "scattercarpet"
           }
          ],
          "scattergeo": [
           {
            "marker": {
             "colorbar": {
              "outlinewidth": 0,
              "ticks": ""
             }
            },
            "type": "scattergeo"
           }
          ],
          "scattergl": [
           {
            "marker": {
             "line": {
              "color": "#283442"
             }
            },
            "type": "scattergl"
           }
          ],
          "scattermapbox": [
           {
            "marker": {
             "colorbar": {
              "outlinewidth": 0,
              "ticks": ""
             }
            },
            "type": "scattermapbox"
           }
          ],
          "scatterpolar": [
           {
            "marker": {
             "colorbar": {
              "outlinewidth": 0,
              "ticks": ""
             }
            },
            "type": "scatterpolar"
           }
          ],
          "scatterpolargl": [
           {
            "marker": {
             "colorbar": {
              "outlinewidth": 0,
              "ticks": ""
             }
            },
            "type": "scatterpolargl"
           }
          ],
          "scatterternary": [
           {
            "marker": {
             "colorbar": {
              "outlinewidth": 0,
              "ticks": ""
             }
            },
            "type": "scatterternary"
           }
          ],
          "surface": [
           {
            "colorbar": {
             "outlinewidth": 0,
             "ticks": ""
            },
            "colorscale": [
             [
              0,
              "#0d0887"
             ],
             [
              0.1111111111111111,
              "#46039f"
             ],
             [
              0.2222222222222222,
              "#7201a8"
             ],
             [
              0.3333333333333333,
              "#9c179e"
             ],
             [
              0.4444444444444444,
              "#bd3786"
             ],
             [
              0.5555555555555556,
              "#d8576b"
             ],
             [
              0.6666666666666666,
              "#ed7953"
             ],
             [
              0.7777777777777778,
              "#fb9f3a"
             ],
             [
              0.8888888888888888,
              "#fdca26"
             ],
             [
              1,
              "#f0f921"
             ]
            ],
            "type": "surface"
           }
          ],
          "table": [
           {
            "cells": {
             "fill": {
              "color": "#506784"
             },
             "line": {
              "color": "rgb(17,17,17)"
             }
            },
            "header": {
             "fill": {
              "color": "#2a3f5f"
             },
             "line": {
              "color": "rgb(17,17,17)"
             }
            },
            "type": "table"
           }
          ]
         },
         "layout": {
          "annotationdefaults": {
           "arrowcolor": "#f2f5fa",
           "arrowhead": 0,
           "arrowwidth": 1
          },
          "autotypenumbers": "strict",
          "coloraxis": {
           "colorbar": {
            "outlinewidth": 0,
            "ticks": ""
           }
          },
          "colorscale": {
           "diverging": [
            [
             0,
             "#8e0152"
            ],
            [
             0.1,
             "#c51b7d"
            ],
            [
             0.2,
             "#de77ae"
            ],
            [
             0.3,
             "#f1b6da"
            ],
            [
             0.4,
             "#fde0ef"
            ],
            [
             0.5,
             "#f7f7f7"
            ],
            [
             0.6,
             "#e6f5d0"
            ],
            [
             0.7,
             "#b8e186"
            ],
            [
             0.8,
             "#7fbc41"
            ],
            [
             0.9,
             "#4d9221"
            ],
            [
             1,
             "#276419"
            ]
           ],
           "sequential": [
            [
             0,
             "#0d0887"
            ],
            [
             0.1111111111111111,
             "#46039f"
            ],
            [
             0.2222222222222222,
             "#7201a8"
            ],
            [
             0.3333333333333333,
             "#9c179e"
            ],
            [
             0.4444444444444444,
             "#bd3786"
            ],
            [
             0.5555555555555556,
             "#d8576b"
            ],
            [
             0.6666666666666666,
             "#ed7953"
            ],
            [
             0.7777777777777778,
             "#fb9f3a"
            ],
            [
             0.8888888888888888,
             "#fdca26"
            ],
            [
             1,
             "#f0f921"
            ]
           ],
           "sequentialminus": [
            [
             0,
             "#0d0887"
            ],
            [
             0.1111111111111111,
             "#46039f"
            ],
            [
             0.2222222222222222,
             "#7201a8"
            ],
            [
             0.3333333333333333,
             "#9c179e"
            ],
            [
             0.4444444444444444,
             "#bd3786"
            ],
            [
             0.5555555555555556,
             "#d8576b"
            ],
            [
             0.6666666666666666,
             "#ed7953"
            ],
            [
             0.7777777777777778,
             "#fb9f3a"
            ],
            [
             0.8888888888888888,
             "#fdca26"
            ],
            [
             1,
             "#f0f921"
            ]
           ]
          },
          "colorway": [
           "#636efa",
           "#EF553B",
           "#00cc96",
           "#ab63fa",
           "#FFA15A",
           "#19d3f3",
           "#FF6692",
           "#B6E880",
           "#FF97FF",
           "#FECB52"
          ],
          "font": {
           "color": "#f2f5fa"
          },
          "geo": {
           "bgcolor": "rgb(17,17,17)",
           "lakecolor": "rgb(17,17,17)",
           "landcolor": "rgb(17,17,17)",
           "showlakes": true,
           "showland": true,
           "subunitcolor": "#506784"
          },
          "hoverlabel": {
           "align": "left"
          },
          "hovermode": "closest",
          "mapbox": {
           "style": "dark"
          },
          "paper_bgcolor": "rgb(17,17,17)",
          "plot_bgcolor": "rgb(17,17,17)",
          "polar": {
           "angularaxis": {
            "gridcolor": "#506784",
            "linecolor": "#506784",
            "ticks": ""
           },
           "bgcolor": "rgb(17,17,17)",
           "radialaxis": {
            "gridcolor": "#506784",
            "linecolor": "#506784",
            "ticks": ""
           }
          },
          "scene": {
           "xaxis": {
            "backgroundcolor": "rgb(17,17,17)",
            "gridcolor": "#506784",
            "gridwidth": 2,
            "linecolor": "#506784",
            "showbackground": true,
            "ticks": "",
            "zerolinecolor": "#C8D4E3"
           },
           "yaxis": {
            "backgroundcolor": "rgb(17,17,17)",
            "gridcolor": "#506784",
            "gridwidth": 2,
            "linecolor": "#506784",
            "showbackground": true,
            "ticks": "",
            "zerolinecolor": "#C8D4E3"
           },
           "zaxis": {
            "backgroundcolor": "rgb(17,17,17)",
            "gridcolor": "#506784",
            "gridwidth": 2,
            "linecolor": "#506784",
            "showbackground": true,
            "ticks": "",
            "zerolinecolor": "#C8D4E3"
           }
          },
          "shapedefaults": {
           "line": {
            "color": "#f2f5fa"
           }
          },
          "sliderdefaults": {
           "bgcolor": "#C8D4E3",
           "bordercolor": "rgb(17,17,17)",
           "borderwidth": 1,
           "tickwidth": 0
          },
          "ternary": {
           "aaxis": {
            "gridcolor": "#506784",
            "linecolor": "#506784",
            "ticks": ""
           },
           "baxis": {
            "gridcolor": "#506784",
            "linecolor": "#506784",
            "ticks": ""
           },
           "bgcolor": "rgb(17,17,17)",
           "caxis": {
            "gridcolor": "#506784",
            "linecolor": "#506784",
            "ticks": ""
           }
          },
          "title": {
           "x": 0.05
          },
          "updatemenudefaults": {
           "bgcolor": "#506784",
           "borderwidth": 0
          },
          "xaxis": {
           "automargin": true,
           "gridcolor": "#283442",
           "linecolor": "#506784",
           "ticks": "",
           "title": {
            "standoff": 15
           },
           "zerolinecolor": "#283442",
           "zerolinewidth": 2
          },
          "yaxis": {
           "automargin": true,
           "gridcolor": "#283442",
           "linecolor": "#506784",
           "ticks": "",
           "title": {
            "standoff": 15
           },
           "zerolinecolor": "#283442",
           "zerolinewidth": 2
          }
         }
        },
        "title": {
         "text": "The label is 6"
        },
        "xaxis": {
         "anchor": "y",
         "constrain": "domain",
         "domain": [
          0,
          1
         ],
         "scaleanchor": "y"
        },
        "yaxis": {
         "anchor": "x",
         "autorange": "reversed",
         "constrain": "domain",
         "domain": [
          0,
          1
         ]
        }
       }
      },
      "text/html": [
       "<div>                            <div id=\"2c7ce061-719b-4c56-8d02-2b06ba6c5f92\" class=\"plotly-graph-div\" style=\"height:525px; width:100%;\"></div>            <script type=\"text/javascript\">                require([\"plotly\"], function(Plotly) {                    window.PLOTLYENV=window.PLOTLYENV || {};                                    if (document.getElementById(\"2c7ce061-719b-4c56-8d02-2b06ba6c5f92\")) {                    Plotly.newPlot(                        \"2c7ce061-719b-4c56-8d02-2b06ba6c5f92\",                        [{\"coloraxis\": \"coloraxis\", \"hovertemplate\": \"x: %{x}<br>y: %{y}<br>color: %{z}<extra></extra>\", \"name\": \"0\", \"type\": \"heatmap\", \"xaxis\": \"x\", \"yaxis\": \"y\", \"z\": [[4.348761702791869e-15, 1.1292540966054639e-13, -2.3304076988484406e-13, 6.658816098200292e-13, 1.4962877026029267e-13, -9.394069241575763e-14, -7.73259757168262e-14, 1.3084776784385821e-13, 3.6450912214406725e-14, 8.07772834248069e-15, 3.0320357024170285e-13, -1.5469802040671166e-13, 2.7750216855080907e-14, -1.227516226416536e-13, -5.253076184467221e-14, -3.3624576772577664e-14, -1.0968705860198234e-13, 4.2995450642918935e-14, 4.8218301005007164e-14, 1.3085895109025662e-13, 7.822150477263144e-15, 8.03244748676242e-15, -7.722959763704564e-14, 3.291560192117781e-14, -1.743317405501321e-14, -7.42024006351874e-15, 1.4854984875938966e-15, -5.795447232673368e-14], [-4.866835047280708e-14, 1.661863554553254e-14, -5.1116868862563716e-14, 4.08840769423793e-14, -1.0714627018527363e-13, 4.3826308213137566e-14, -0.07678173059439283, -0.09287363652086675, 0.001537164938353458, 0.3480288170473209, 0.9536162409273826, 0.08225870430134133, 0.1526745031405827, 0.3811404874926413, -0.4602841658510287, -1.1287106703273007, -0.06470540204573119, 1.6583829131286902, 2.3761893015085005, 1.5700307442366268, 0.884712353548141, 0.11390764577317372, 9.493619801132596e-14, -5.61906790801376e-14, -1.8630707687630397e-14, -3.293906787199405e-14, 1.0527815086874222e-13, -3.9092661934394674e-14], [3.06497963267188e-14, 8.586276656344266e-14, -4.165929037251199e-15, 0.007079516041302558, -0.08219132677847929, 0.0001957548419143306, 0.10574795102211013, 0.49718462452421647, 0.9165150979389141, 1.4998387744881896, 2.1782533594207134, 0.8790125320251223, -0.41880798855842793, -3.6698873972914, -8.297370035815431, -6.867984345880428, 25.764005281131368, 66.24719174838583, 74.87278394228781, 43.55165659580297, 13.595479573577268, 1.5846652107209602, -1.1661253958363333, -0.37861532198947767, -0.08915355048739787, -0.04805428283274377, -2.6949783107077833e-14, -4.4718022014313793e-14], [1.0637579347506481e-14, 2.7889578955411608e-14, 5.2610791800985084e-14, -0.11306512544624199, -0.022334128001837723, 0.1677254347542665, 0.4323895282330559, 1.9013849191176249, 2.562909301208241, 1.9246635646549475, 0.5554022958417337, -4.09630749086874, -9.232845598884753, -18.052363493381534, -20.855664528530397, 11.129487382641948, 95.38409055931315, 169.18013991275345, 151.55118824597608, 74.23929394220417, 7.5074883385545395, -7.543637059463528, -6.4998088995027254, -1.2803225905948623, -0.2742445913266798, -0.049272301511910054, -0.0010858499459080037, -5.160185802344841e-14], [3.190080658074813e-14, 0.006757646973507574, 1.9129230047468183e-14, -0.15811105469985612, 0.3869328594841958, 1.6741100802547784, 2.4457010218410806, 4.321848518311475, 4.479644119895229, 6.197220075768467, 5.027149378539166, 9.762404279407784, 22.78190895025572, 10.976678177059966, -28.540754074189216, 8.860570831326264, 115.78723873206062, 151.8645967851198, 75.46182124545814, -12.348791658542222, -36.53767302506827, -14.420273816496643, -0.5291506547941474, 3.3476477678041947, 2.4145458201196757, 0.9037229713234076, 0.11523913995459031, -3.0963471360616916e-14], [4.9321723046164093e-14, -7.040026507749859e-15, -0.0018823420785684369, -0.18827147730747948, 0.9102440732887118, 2.3612655822892306, 2.061438513484653, 0.7325835423372213, -4.290732552575122, -6.373316352110944, -17.106819538963933, -10.554748780319343, 12.590969663636713, -13.525607675385999, -17.295097663450008, 120.73746594374587, 234.10808893868412, 158.06213399035292, 18.651516864578277, -21.06794003083717, -12.062759589144598, 6.444801204568163, 14.075938137307284, 6.693975321866206, -0.03676847521326376, 0.9582454475683859, 0.011377618869848963, 1.7900801063373304e-14], [-2.2414000512351487e-14, 1.2214235789745839e-14, 0.18428040661387476, 0.7266225958150219, 2.582803009416684, 3.0528952743037108, -0.7273290082296082, -5.863231101002974, -5.805849990967012, 0.918006860899446, -6.153489767091202, 8.612559180802442, 17.790893552215095, -12.609484981295026, 50.90973992072561, 218.1309921929536, 239.95653471028555, 71.06434601381625, -31.816523711339514, -0.4911659815735874, 14.744267504803474, 6.9150749836282905, 4.750846812537585, 0.4239404815748564, -5.01803082476962, -2.6198184679817156, -0.6675964445966107, 0.09304656702258327], [0.00904918326191566, 0.10316180221069618, 0.22888673949336819, 2.375083732638868, 6.269421213917496, 8.244269822409676, 0.9886762449917192, -3.808555571252896, 15.00275154844826, 15.658573987223683, -14.474614367853832, -2.7084260535591653, -3.8477131214310134, -20.882835202569908, 114.29292312634837, 239.66450922505172, 136.78169354653517, -1.76213080359625, -14.009968837748133, 23.23788053520032, 6.230155549186549, -11.656264553728562, -9.60011690679967, -10.440083176557948, -9.445730024307124, -5.5149403307947615, -0.409190160897089, 0.10922481242160398], [0.03677434048990711, 0.33803566770229543, 0.5377449248240866, 6.109848354859329, 12.015261785767972, 9.308607123172674, -6.817936061577004, -6.134061474920838, 12.151925989441672, -2.463531305038387, -11.912378918287146, 15.286592977882378, -10.113443317947045, 52.12016076921489, 226.19306625533198, 218.52944144903194, 41.52591923572413, -17.07038352162185, 7.166560464270816, 0.23986226665746813, -14.062448603266844, -6.798030633598181, 1.1232513929930334, 5.721400293121784, 3.2407324384796823, 2.0655806520407034, 0.8956016121315626, 0.05115244879829471], [0.00596861023658456, 0.5268776690082735, 1.3820264246387874, 6.3747250623785225, 9.442859501330133, 0.4108312306714641, -12.255629303699141, -6.238083761044805, -1.315447028822895, -10.654981513274265, 13.791354205735502, 1.9609307130650109, -11.626170523032357, 145.9814932229885, 257.3988454909461, 111.84778755584841, -21.325285752906424, 1.4166415739095868, 14.941565444257648, -11.011162636354157, -7.153435318174587, 10.683710145692856, 12.782035773833648, 13.204224361731232, 7.374013954382376, 4.463869677190523, 0.26337385780834244, 0.06386805718595509], [1.2723475547413059e-24, 0.2646362193630399, 1.2848743588991933, 3.225230026577761, 2.445226033456451, -4.842758825023909, -4.7668471617442165, 6.425085978203569, -6.779344628166363, 2.7891932390596708, 9.305285820398737, -21.354869833677228, 81.33688112870347, 257.70948017679575, 221.16911328511333, 28.41657157863868, -3.3655020097238406, 20.681955988923093, 0.6549659849835052, 0.6970309704600908, 9.031952475191268, 1.938032678654416, -7.670229408008481, -3.357279327314128, -2.1411015144736423, 1.8330454822310507, 0.21687926113722714, 3.297581444927929e-32], [-7.593208355584555e-31, 0.05279194986940478, 0.48515949857296814, 0.026654178971176057, -0.5628006185261865, -3.414105004075209, 8.242342659493719, 9.09065958056572, -6.693252294965603, 12.043868413871664, -19.21613264182524, -0.4731596007483887, 165.73382665970462, 236.50693180949355, 88.1886506632044, -23.68446277428862, -9.0161437617258, -39.35625356219187, -34.26765493143441, -0.8942118582753977, -2.1787151332256087, -11.53206148803708, -13.013913999414669, -9.188182068586016, -7.2520023268108424, 0.08015386282551185, -0.007620166011973684, 0.006015726989477676], [-1.641109464544652e-30, 0.030327322626974632, 0.13174206822424397, -0.8442549093592701, -0.3325444083486597, 0.20035473625021005, 9.007809250576972, -0.48926197410939665, -5.912651809914479, 15.052254923150613, -18.65323887401813, 55.146977576554285, 215.0623376333914, 220.6238083943907, 125.69887693887758, 111.18778060067982, 104.00529213185165, 54.80648355854781, 37.97314913255532, 28.323180730113037, -7.394715094727879, -3.424928559461655, 6.613794028517059, -1.5116165923811895, -8.642654319466885, -0.32287947829264296, 0.44764714542876116, 0.12231765508207113], [0.0, 0.08091125424229755, 0.27448023019897283, -0.4132271254299239, 0.7048461081253201, 1.8788938770399355, 1.1189999977962586, -7.990334010425677, 4.682824063707457, 5.614386525631943, 10.717208436519712, 152.98344888626397, 276.4103887290138, 264.68886949853675, 220.1931218515187, 220.10516795934666, 210.40598382605526, 199.32827368786437, 191.78492474697384, 111.2452598900937, 1.5974458743247268, 1.6113243907011423, 19.818803116444727, 6.063464252527421, -7.2146994329891125, 0.18830254703779803, 0.7113342933283816, 0.05506114540353732], [0.0, 0.14791929338674448, 0.20872659754232378, -0.8224643072865543, 1.6665416461867144, 0.18083804250663071, -4.473911503387928, -1.1368350505562859, 2.6107125984568285, -21.57495517195865, 49.83482559459272, 214.64111797595058, 235.83396643653944, 112.41233550610785, 65.49338637790927, 69.77782871805123, 73.5747629694468, 141.76316649406795, 249.59173068852925, 197.54281277332854, 15.593419694805185, -15.686447911562354, 13.533810195121987, 7.683230427145448, -3.5939103669964663, -0.2519178627114076, 0.4829954373920572, 0.0], [0.0, 0.0, 0.5388003927641885, 0.8194203917484815, 5.072012956369568, -5.609927337819952, -10.633769252181, 13.830901425536268, 1.4830233164284152, -11.399720348458686, 133.2058159752911, 266.8151978386062, 137.42187992340405, -17.043427160408527, -5.188033335998853, 0.34898103813696935, -44.27569929660618, 50.058396977330716, 233.4676914563394, 194.48810489087774, 17.226710635063547, -26.74786722965836, -0.0697986945516611, 1.3259366896152862, -1.2518713150365288, 0.04531680903759294, 0.6819587042242984, 0.09234762289374956], [0.0, 0.12124820146959528, 1.0324266173022605, 2.8957813671576473, 10.228639861980664, -5.799250606001451, -6.025758689774555, 14.503047618976233, -2.688714381992739, 19.8626137483418, 191.66346456514162, 235.43369687137834, 41.107110904913924, -32.24667354073999, 33.91683223575295, -9.537027916753146, -19.770681891838862, 125.22018969578454, 226.46571618262388, 130.94598244186065, 9.132815754276727, -11.414871569705866, 0.43749427420232223, 0.3323891728825519, 0.947255241070919, 1.2870065728749585, 1.1254734715112515, 0.18869622639592673], [0.0, 0.07643837901825354, 0.9872350698793635, 4.418625864469931, 16.117427095307633, -0.3959941863397063, -1.9842739122785815, 2.9557017305676467, -16.883798111282033, 38.40773418888365, 231.91692829446447, 222.3038398828421, 22.95600327985119, -14.069193009367595, 24.365826633411288, -12.735960512091623, 95.93746110127726, 235.1887693085862, 185.51623866660077, 41.36361364390118, -3.7017893606026036, 11.80452358698357, 5.324217045816088, 0.9180224564247066, 3.8138228283376288, 1.7234400334170192, 1.0646207757662578, 0.04726018358680387], [-0.014498203945240179, 0.029142170099012262, 1.1556998395437639, 4.486920860124058, 12.616921795987917, 1.8896849878399316, 1.6708864943876307, 6.219985778283842, -22.654269227669886, 53.04971763812822, 255.8259794802172, 224.48051992015053, 9.131439285126746, -51.981801761194106, 12.417346027165706, 94.35158348149723, 214.60430448023124, 198.54921233415337, 64.76542845537642, -24.316989219188102, -5.791567542465501, 9.969602291423879, -2.573833348068085, -4.35299742499145, 0.17590476378432918, 0.2574819195303011, 0.8560404057701607, 0.2401228101460568], [0.0, 0.13736971895457364, 1.7931160312444496, 3.599395264511992, 3.697849282332694, -9.34076572079448, 1.6124591084150381, 20.34667573641759, -20.419218154414054, 37.39659936144036, 228.1404128901292, 213.88447111715092, 48.06520308860212, 38.89849192120085, 154.4252089003791, 247.8613444352291, 219.22794833723404, 74.02809776485799, -10.557209543067927, -13.014457841740523, 2.8988260129489802, -3.379727216619031, -8.60997512377384, -6.5018622376096324, -1.8369937231102065, -0.3671777596143102, 0.12375042494891869, 0.16864176492873745], [0.0, 0.21543377606688996, 2.4911626686926995, 2.5684977856310027, 0.3829542623850877, -13.236854335604463, -9.581854349966434, 15.625641942773179, -17.17301866909314, 1.7319019841144296, 157.8988155776123, 230.9212302838266, 216.64405140987316, 256.70984306974606, 268.3723896687753, 191.98334152074364, 69.61532193494435, -26.040412447826697, -5.344180979326538, 17.350860649382554, -1.050185403518313, -6.856333521969628, 1.1291831425451555, 3.891708666425757, 2.4323241098580355, 0.44994387843855665, -0.39284725533629783, 0.0], [0.0, 0.12564928473491066, 0.6535932238719335, 3.771221367219964, 6.326532456647265, -5.584087456682308, -11.79355458544137, 9.657898434899543, 0.8347758719877731, -17.281643329239046, 50.146797785376435, 174.04639376929396, 244.1525143914487, 228.97389369894125, 111.50216680226967, 11.037963090830686, -16.62052139412428, -12.831588571665606, 17.864936964787823, 5.122412993366773, -6.499342035564663, 3.636423410834894, 14.20752085355749, 9.839552487752117, 3.5234403279350603, 0.31970590928251946, -0.02931544347869458, 0.0], [0.0, 0.0037593584994716485, 0.8999069392025425, 5.097177755073279, 13.701098194152232, 12.68693987277478, -4.800261971440801, 2.01927023910563, 19.938930735849482, -1.9502361484774866, -28.141375748884386, -18.439423592556807, 19.64528049174909, 19.429911175358498, -17.825116077473155, -2.7964557652712756, 18.685286794284707, 1.9565230672317284, -1.0809084564019358, -10.094382412157962, -5.821150479864116, 5.001265514123347, 6.716876724586208, 5.085553547550801, 1.868710687329838, 0.3600695229163086, -0.03553002872176927, 0.0], [0.0, 0.0, 1.2626665918951565, 3.6923939939604398, 14.588225793160792, 21.26484339966565, 11.094640688880038, -11.584850379172, -9.543506922064857, 9.252684528309459, 17.54207338562817, -0.5570431110067915, -1.780205724875458, 2.5224129506298425, -2.5197488511373223, 4.413242232051331, -0.7110303327706404, -9.91926737688651, -3.1017826532130073, -4.235778506285223, -3.221221474953703, -1.3367446623814425, 1.013787385844486, 1.7342783567125637, 0.4206391997784489, 0.011719877414235781, 0.0019580136697380244, 0.0], [0.0, 0.0, 0.7016593539649295, 1.7894256420134906, 6.546911721850231, 10.902606365480532, 9.06070236159303, -4.916906766492016, -11.556485297816462, 2.705020812515869, 12.037178128785914, -10.583089845326484, -9.872291291312955, 3.823793106342535, 8.150587298752477, 1.7070083374948908, 0.25656964627024337, 7.170624535685585, 12.086080131298791, 5.278545218139422, 0.8979975911774751, -0.8645962190644358, -0.10812097467100401, -0.3103045777688767, -0.2255607086339176, -0.39302507499129014, -0.004480367696208538, 0.0], [0.0, 0.0, 0.04752022647872797, 0.10848420747363188, 0.5756458473825522, 1.013462305430111, -2.4210177898141065, -8.177516758468128, -7.918450411326181, 4.183619775376496, 5.823971376275385, -8.679401253843285, -8.6769448657991, -1.3000182467328685, -1.2455718030882181, -9.169019268696191, -6.615005496499721, 5.572892361994654, 11.541630750974308, 5.215540658625983, 0.9269153810427999, -0.2278442740430987, -0.5766479700993555, -0.488590051491551, -0.01619429774339181, 0.0, 0.0, 0.0], [0.0, 0.0, 0.0, 0.0, -0.08589966476330206, -0.08823660742125794, -0.7443726957293229, -0.40124086042699636, 4.806800220049526, 13.05522768499349, 12.710421024712035, 8.842755829805773, 11.97208732144783, 14.235350734297764, 5.781617933117481, -4.907877258617229, -5.645158141547029, 0.6909838639767956, 3.393446089506123, 2.316413653807353, 1.0822134856913406, 0.4089766284011001, 0.17158836235331978, 0.042933440107178714, 0.009105613280757657, 0.0, 0.0, 0.0], [0.0, 0.0, 0.0, 0.0, 0.0025465023603775646, 0.048019758795692494, 0.07959208041316339, 0.4337569598118181, 0.8208641280442486, 0.9133130925924361, 0.07174079630963703, 1.5355091283916966, 3.0195627567893126, 2.575379031593911, 0.9459325887205842, -0.09796760692478257, -0.09308133901244531, 1.2016310965126207, 1.2369202421958931, 0.5810627594374606, 0.256246218235431, 0.03140863080663821, -0.14296163985003252, -0.0022730311918701287, 0.0, 0.0, 0.0, 0.0]]}],                        {\"coloraxis\": {\"colorscale\": [[0.0, \"rgb(0, 0, 0)\"], [0.09090909090909091, \"rgb(16, 16, 16)\"], [0.18181818181818182, \"rgb(38, 38, 38)\"], [0.2727272727272727, \"rgb(59, 59, 59)\"], [0.36363636363636365, \"rgb(81, 80, 80)\"], [0.45454545454545453, \"rgb(102, 101, 101)\"], [0.5454545454545454, \"rgb(124, 123, 122)\"], [0.6363636363636364, \"rgb(146, 146, 145)\"], [0.7272727272727273, \"rgb(171, 171, 170)\"], [0.8181818181818182, \"rgb(197, 197, 195)\"], [0.9090909090909091, \"rgb(224, 224, 223)\"], [1.0, \"rgb(254, 254, 253)\"]]}, \"margin\": {\"t\": 60}, \"template\": {\"data\": {\"bar\": [{\"error_x\": {\"color\": \"#f2f5fa\"}, \"error_y\": {\"color\": \"#f2f5fa\"}, \"marker\": {\"line\": {\"color\": \"rgb(17,17,17)\", \"width\": 0.5}}, \"type\": \"bar\"}], \"barpolar\": [{\"marker\": {\"line\": {\"color\": \"rgb(17,17,17)\", \"width\": 0.5}}, \"type\": \"barpolar\"}], \"carpet\": [{\"aaxis\": {\"endlinecolor\": \"#A2B1C6\", \"gridcolor\": \"#506784\", \"linecolor\": \"#506784\", \"minorgridcolor\": \"#506784\", \"startlinecolor\": \"#A2B1C6\"}, \"baxis\": {\"endlinecolor\": \"#A2B1C6\", \"gridcolor\": \"#506784\", \"linecolor\": \"#506784\", \"minorgridcolor\": \"#506784\", \"startlinecolor\": \"#A2B1C6\"}, \"type\": \"carpet\"}], \"choropleth\": [{\"colorbar\": {\"outlinewidth\": 0, \"ticks\": \"\"}, \"type\": \"choropleth\"}], \"contour\": [{\"colorbar\": {\"outlinewidth\": 0, \"ticks\": \"\"}, \"colorscale\": [[0.0, \"#0d0887\"], [0.1111111111111111, \"#46039f\"], [0.2222222222222222, \"#7201a8\"], [0.3333333333333333, \"#9c179e\"], [0.4444444444444444, \"#bd3786\"], [0.5555555555555556, \"#d8576b\"], [0.6666666666666666, \"#ed7953\"], [0.7777777777777778, \"#fb9f3a\"], [0.8888888888888888, \"#fdca26\"], [1.0, \"#f0f921\"]], \"type\": \"contour\"}], \"contourcarpet\": [{\"colorbar\": {\"outlinewidth\": 0, \"ticks\": \"\"}, \"type\": \"contourcarpet\"}], \"heatmap\": [{\"colorbar\": {\"outlinewidth\": 0, \"ticks\": \"\"}, \"colorscale\": [[0.0, \"#0d0887\"], [0.1111111111111111, \"#46039f\"], [0.2222222222222222, \"#7201a8\"], [0.3333333333333333, \"#9c179e\"], [0.4444444444444444, \"#bd3786\"], [0.5555555555555556, \"#d8576b\"], [0.6666666666666666, \"#ed7953\"], [0.7777777777777778, \"#fb9f3a\"], [0.8888888888888888, \"#fdca26\"], [1.0, \"#f0f921\"]], \"type\": \"heatmap\"}], \"heatmapgl\": [{\"colorbar\": {\"outlinewidth\": 0, \"ticks\": \"\"}, \"colorscale\": [[0.0, \"#0d0887\"], [0.1111111111111111, \"#46039f\"], [0.2222222222222222, \"#7201a8\"], [0.3333333333333333, \"#9c179e\"], [0.4444444444444444, \"#bd3786\"], [0.5555555555555556, \"#d8576b\"], [0.6666666666666666, \"#ed7953\"], [0.7777777777777778, \"#fb9f3a\"], [0.8888888888888888, \"#fdca26\"], [1.0, \"#f0f921\"]], \"type\": \"heatmapgl\"}], \"histogram\": [{\"marker\": {\"colorbar\": {\"outlinewidth\": 0, \"ticks\": \"\"}}, \"type\": \"histogram\"}], \"histogram2d\": [{\"colorbar\": {\"outlinewidth\": 0, \"ticks\": \"\"}, \"colorscale\": [[0.0, \"#0d0887\"], [0.1111111111111111, \"#46039f\"], [0.2222222222222222, \"#7201a8\"], [0.3333333333333333, \"#9c179e\"], [0.4444444444444444, \"#bd3786\"], [0.5555555555555556, \"#d8576b\"], [0.6666666666666666, \"#ed7953\"], [0.7777777777777778, \"#fb9f3a\"], [0.8888888888888888, \"#fdca26\"], [1.0, \"#f0f921\"]], \"type\": \"histogram2d\"}], \"histogram2dcontour\": [{\"colorbar\": {\"outlinewidth\": 0, \"ticks\": \"\"}, \"colorscale\": [[0.0, \"#0d0887\"], [0.1111111111111111, \"#46039f\"], [0.2222222222222222, \"#7201a8\"], [0.3333333333333333, \"#9c179e\"], [0.4444444444444444, \"#bd3786\"], [0.5555555555555556, \"#d8576b\"], [0.6666666666666666, \"#ed7953\"], [0.7777777777777778, \"#fb9f3a\"], [0.8888888888888888, \"#fdca26\"], [1.0, \"#f0f921\"]], \"type\": \"histogram2dcontour\"}], \"mesh3d\": [{\"colorbar\": {\"outlinewidth\": 0, \"ticks\": \"\"}, \"type\": \"mesh3d\"}], \"parcoords\": [{\"line\": {\"colorbar\": {\"outlinewidth\": 0, \"ticks\": \"\"}}, \"type\": \"parcoords\"}], \"pie\": [{\"automargin\": true, \"type\": \"pie\"}], \"scatter\": [{\"marker\": {\"line\": {\"color\": \"#283442\"}}, \"type\": \"scatter\"}], \"scatter3d\": [{\"line\": {\"colorbar\": {\"outlinewidth\": 0, \"ticks\": \"\"}}, \"marker\": {\"colorbar\": {\"outlinewidth\": 0, \"ticks\": \"\"}}, \"type\": \"scatter3d\"}], \"scattercarpet\": [{\"marker\": {\"colorbar\": {\"outlinewidth\": 0, \"ticks\": \"\"}}, \"type\": \"scattercarpet\"}], \"scattergeo\": [{\"marker\": {\"colorbar\": {\"outlinewidth\": 0, \"ticks\": \"\"}}, \"type\": \"scattergeo\"}], \"scattergl\": [{\"marker\": {\"line\": {\"color\": \"#283442\"}}, \"type\": \"scattergl\"}], \"scattermapbox\": [{\"marker\": {\"colorbar\": {\"outlinewidth\": 0, \"ticks\": \"\"}}, \"type\": \"scattermapbox\"}], \"scatterpolar\": [{\"marker\": {\"colorbar\": {\"outlinewidth\": 0, \"ticks\": \"\"}}, \"type\": \"scatterpolar\"}], \"scatterpolargl\": [{\"marker\": {\"colorbar\": {\"outlinewidth\": 0, \"ticks\": \"\"}}, \"type\": \"scatterpolargl\"}], \"scatterternary\": [{\"marker\": {\"colorbar\": {\"outlinewidth\": 0, \"ticks\": \"\"}}, \"type\": \"scatterternary\"}], \"surface\": [{\"colorbar\": {\"outlinewidth\": 0, \"ticks\": \"\"}, \"colorscale\": [[0.0, \"#0d0887\"], [0.1111111111111111, \"#46039f\"], [0.2222222222222222, \"#7201a8\"], [0.3333333333333333, \"#9c179e\"], [0.4444444444444444, \"#bd3786\"], [0.5555555555555556, \"#d8576b\"], [0.6666666666666666, \"#ed7953\"], [0.7777777777777778, \"#fb9f3a\"], [0.8888888888888888, \"#fdca26\"], [1.0, \"#f0f921\"]], \"type\": \"surface\"}], \"table\": [{\"cells\": {\"fill\": {\"color\": \"#506784\"}, \"line\": {\"color\": \"rgb(17,17,17)\"}}, \"header\": {\"fill\": {\"color\": \"#2a3f5f\"}, \"line\": {\"color\": \"rgb(17,17,17)\"}}, \"type\": \"table\"}]}, \"layout\": {\"annotationdefaults\": {\"arrowcolor\": \"#f2f5fa\", \"arrowhead\": 0, \"arrowwidth\": 1}, \"autotypenumbers\": \"strict\", \"coloraxis\": {\"colorbar\": {\"outlinewidth\": 0, \"ticks\": \"\"}}, \"colorscale\": {\"diverging\": [[0, \"#8e0152\"], [0.1, \"#c51b7d\"], [0.2, \"#de77ae\"], [0.3, \"#f1b6da\"], [0.4, \"#fde0ef\"], [0.5, \"#f7f7f7\"], [0.6, \"#e6f5d0\"], [0.7, \"#b8e186\"], [0.8, \"#7fbc41\"], [0.9, \"#4d9221\"], [1, \"#276419\"]], \"sequential\": [[0.0, \"#0d0887\"], [0.1111111111111111, \"#46039f\"], [0.2222222222222222, \"#7201a8\"], [0.3333333333333333, \"#9c179e\"], [0.4444444444444444, \"#bd3786\"], [0.5555555555555556, \"#d8576b\"], [0.6666666666666666, \"#ed7953\"], [0.7777777777777778, \"#fb9f3a\"], [0.8888888888888888, \"#fdca26\"], [1.0, \"#f0f921\"]], \"sequentialminus\": [[0.0, \"#0d0887\"], [0.1111111111111111, \"#46039f\"], [0.2222222222222222, \"#7201a8\"], [0.3333333333333333, \"#9c179e\"], [0.4444444444444444, \"#bd3786\"], [0.5555555555555556, \"#d8576b\"], [0.6666666666666666, \"#ed7953\"], [0.7777777777777778, \"#fb9f3a\"], [0.8888888888888888, \"#fdca26\"], [1.0, \"#f0f921\"]]}, \"colorway\": [\"#636efa\", \"#EF553B\", \"#00cc96\", \"#ab63fa\", \"#FFA15A\", \"#19d3f3\", \"#FF6692\", \"#B6E880\", \"#FF97FF\", \"#FECB52\"], \"font\": {\"color\": \"#f2f5fa\"}, \"geo\": {\"bgcolor\": \"rgb(17,17,17)\", \"lakecolor\": \"rgb(17,17,17)\", \"landcolor\": \"rgb(17,17,17)\", \"showlakes\": true, \"showland\": true, \"subunitcolor\": \"#506784\"}, \"hoverlabel\": {\"align\": \"left\"}, \"hovermode\": \"closest\", \"mapbox\": {\"style\": \"dark\"}, \"paper_bgcolor\": \"rgb(17,17,17)\", \"plot_bgcolor\": \"rgb(17,17,17)\", \"polar\": {\"angularaxis\": {\"gridcolor\": \"#506784\", \"linecolor\": \"#506784\", \"ticks\": \"\"}, \"bgcolor\": \"rgb(17,17,17)\", \"radialaxis\": {\"gridcolor\": \"#506784\", \"linecolor\": \"#506784\", \"ticks\": \"\"}}, \"scene\": {\"xaxis\": {\"backgroundcolor\": \"rgb(17,17,17)\", \"gridcolor\": \"#506784\", \"gridwidth\": 2, \"linecolor\": \"#506784\", \"showbackground\": true, \"ticks\": \"\", \"zerolinecolor\": \"#C8D4E3\"}, \"yaxis\": {\"backgroundcolor\": \"rgb(17,17,17)\", \"gridcolor\": \"#506784\", \"gridwidth\": 2, \"linecolor\": \"#506784\", \"showbackground\": true, \"ticks\": \"\", \"zerolinecolor\": \"#C8D4E3\"}, \"zaxis\": {\"backgroundcolor\": \"rgb(17,17,17)\", \"gridcolor\": \"#506784\", \"gridwidth\": 2, \"linecolor\": \"#506784\", \"showbackground\": true, \"ticks\": \"\", \"zerolinecolor\": \"#C8D4E3\"}}, \"shapedefaults\": {\"line\": {\"color\": \"#f2f5fa\"}}, \"sliderdefaults\": {\"bgcolor\": \"#C8D4E3\", \"bordercolor\": \"rgb(17,17,17)\", \"borderwidth\": 1, \"tickwidth\": 0}, \"ternary\": {\"aaxis\": {\"gridcolor\": \"#506784\", \"linecolor\": \"#506784\", \"ticks\": \"\"}, \"baxis\": {\"gridcolor\": \"#506784\", \"linecolor\": \"#506784\", \"ticks\": \"\"}, \"bgcolor\": \"rgb(17,17,17)\", \"caxis\": {\"gridcolor\": \"#506784\", \"linecolor\": \"#506784\", \"ticks\": \"\"}}, \"title\": {\"x\": 0.05}, \"updatemenudefaults\": {\"bgcolor\": \"#506784\", \"borderwidth\": 0}, \"xaxis\": {\"automargin\": true, \"gridcolor\": \"#283442\", \"linecolor\": \"#506784\", \"ticks\": \"\", \"title\": {\"standoff\": 15}, \"zerolinecolor\": \"#283442\", \"zerolinewidth\": 2}, \"yaxis\": {\"automargin\": true, \"gridcolor\": \"#283442\", \"linecolor\": \"#506784\", \"ticks\": \"\", \"title\": {\"standoff\": 15}, \"zerolinecolor\": \"#283442\", \"zerolinewidth\": 2}}}, \"title\": {\"text\": \"The label is 6\"}, \"xaxis\": {\"anchor\": \"y\", \"constrain\": \"domain\", \"domain\": [0.0, 1.0], \"scaleanchor\": \"y\"}, \"yaxis\": {\"anchor\": \"x\", \"autorange\": \"reversed\", \"constrain\": \"domain\", \"domain\": [0.0, 1.0]}},                        {\"responsive\": true}                    ).then(function(){\n",
       "                            \n",
       "var gd = document.getElementById('2c7ce061-719b-4c56-8d02-2b06ba6c5f92');\n",
       "var x = new MutationObserver(function (mutations, observer) {{\n",
       "        var display = window.getComputedStyle(gd).display;\n",
       "        if (!display || display === 'none') {{\n",
       "            console.log([gd, 'removed!']);\n",
       "            Plotly.purge(gd);\n",
       "            observer.disconnect();\n",
       "        }}\n",
       "}});\n",
       "\n",
       "// Listen for the removal of the full notebook cells\n",
       "var notebookContainer = gd.closest('#notebook-container');\n",
       "if (notebookContainer) {{\n",
       "    x.observe(notebookContainer, {childList: true});\n",
       "}}\n",
       "\n",
       "// Listen for the clearing of the current output cell\n",
       "var outputEl = gd.closest('.output');\n",
       "if (outputEl) {{\n",
       "    x.observe(outputEl, {childList: true});\n",
       "}}\n",
       "\n",
       "                        })                };                });            </script>        </div>"
      ]
     },
     "metadata": {},
     "output_type": "display_data"
    }
   ],
   "source": [
    "indx = 0\n",
    "fig = px.imshow(pca.inverse_transform(X_test_d[indx,:]).reshape(28,28), color_continuous_scale='gray')\n",
    "\n",
    "fig.update_layout(title=f'The label is {y_test[indx]}')\n",
    "\n",
    "fig.show()"
   ]
  },
  {
   "cell_type": "code",
   "execution_count": 22,
   "metadata": {},
   "outputs": [
    {
     "name": "stdout",
     "output_type": "stream",
     "text": [
      "The Accuracy for- Train: 0.9737483592724545, Test: 0.961\n",
      "The Accuracy for- Train: 0.9737483592724545, Test: 0.961\n",
      "The Accuracy for- Train: 0.9737483592724545, Test: 0.961\n",
      "11.9 s ± 821 ms per loop (mean ± std. dev. of 3 runs, 1 loop each)\n"
     ]
    }
   ],
   "source": [
    "%%timeit -r 3 -n 1\n",
    "knn = KNeighborsClassifier().fit(X_train_d, y_train)\n",
    "\n",
    "y_trpred_d = knn.predict(X_train_d)\n",
    "y_tepred_d = knn.predict(X_test_d)\n",
    "\n",
    "print(f'The Accuracy for- Train: {accuracy_score(y_train,y_trpred_d)}, Test: {accuracy_score(y_test,y_tepred_d)}')"
   ]
  },
  {
   "cell_type": "code",
   "execution_count": null,
   "metadata": {},
   "outputs": [],
   "source": []
  }
 ],
 "metadata": {
  "kernelspec": {
   "display_name": "stomks",
   "language": "python",
   "name": "stomks"
  },
  "language_info": {
   "codemirror_mode": {
    "name": "ipython",
    "version": 3
   },
   "file_extension": ".py",
   "mimetype": "text/x-python",
   "name": "python",
   "nbconvert_exporter": "python",
   "pygments_lexer": "ipython3",
   "version": "3.9.1"
  }
 },
 "nbformat": 4,
 "nbformat_minor": 4
}
